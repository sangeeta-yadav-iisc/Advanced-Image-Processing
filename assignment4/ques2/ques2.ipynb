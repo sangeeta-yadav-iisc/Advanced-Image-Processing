{
 "cells": [
  {
   "cell_type": "code",
   "execution_count": 66,
   "metadata": {},
   "outputs": [],
   "source": [
    "import scipy.integrate as integrate\n",
    "import scipy.special as special\n",
    "import sympy as sym\n",
    "from sympy import *"
   ]
  },
  {
   "cell_type": "code",
   "execution_count": 67,
   "metadata": {},
   "outputs": [
    {
     "name": "stdout",
     "output_type": "stream",
     "text": [
      "Inner Distortion:\n"
     ]
    },
    {
     "data": {
      "text/latex": [
       "$\\displaystyle \\left(- 6.0 d e^{\\frac{2 d}{3}} + \\left(0.25 d^{2} - 3.0 d + 18.0\\right) e^{d} - \\left(0.25 d^{2} + 3.0 d + 18.0\\right) e^{\\frac{d}{3}}\\right) e^{- d}$"
      ],
      "text/plain": [
       "(-6.0*d*exp(2*d/3) + (0.25*d**2 - 3.0*d + 18.0)*exp(d) - (0.25*d**2 + 3.0*d + 18.0)*exp(d/3))*exp(-d)"
      ]
     },
     "execution_count": 67,
     "metadata": {},
     "output_type": "execute_result"
    }
   ],
   "source": [
    "# Since the given pdf(f_X(x)) is symmetric around x=0, so we will consider a symmetric quantizer. \n",
    "# We need three thresholds(d_i) and 2 respresentation levels y_i for this. \n",
    "# We are designing a uniform quatizer so all d_i = d and we will call it step size\n",
    "\n",
    "x = sym.Symbol('x')\n",
    "d = sym.Symbol('d')\n",
    "\n",
    "## Interior deteroriation calculation\n",
    "Din1 = ((x-(d/2))**2)*sym.exp(-x/3)*(1/6)\n",
    "I1 = sym.integrate(Din1, (x, 0, d))\n",
    "Din2 = ((x-(3*d/2))**2)*sym.exp(-x/3)*(1/6)\n",
    "I2 = sym.integrate(Din2, (x, d, 2*d))\n",
    "Din = 2*(I1+I2)\n",
    "print(\"Inner Distortion:\")\n",
    "sym.simplify(Din)\n",
    "# print(latex(sym.simplify(Din)))"
   ]
  },
  {
   "cell_type": "code",
   "execution_count": 68,
   "metadata": {},
   "outputs": [
    {
     "name": "stdout",
     "output_type": "stream",
     "text": [
      "Outer Distortion:\n"
     ]
    },
    {
     "data": {
      "text/latex": [
       "$\\displaystyle \\left(0.25 d^{2} + 3.0 d + 18.0\\right) e^{- \\frac{2 d}{3}}$"
      ],
      "text/plain": [
       "(0.25*d**2 + 3.0*d + 18.0)*exp(-2*d/3)"
      ]
     },
     "execution_count": 68,
     "metadata": {},
     "output_type": "execute_result"
    }
   ],
   "source": [
    "## exterior deteroriation calculation\n",
    "D01 = (x- 3*d/2)**2 *sym.exp(-x/3)*(1/6)\n",
    "Dout = 2*sym.integrate(D01, (x, 2*d,sym.oo))\n",
    "print(\"Outer Distortion:\")\n",
    "sym.simplify(Dout)\n",
    "# print(latex(sym.simplify(Dout)))"
   ]
  },
  {
   "cell_type": "code",
   "execution_count": 69,
   "metadata": {},
   "outputs": [
    {
     "name": "stdout",
     "output_type": "stream",
     "text": [
      "Total Distortion:\n"
     ]
    },
    {
     "data": {
      "text/latex": [
       "$\\displaystyle 0.25 d^{2} - 3.0 d - 6.0 d e^{- \\frac{d}{3}} + 18.0$"
      ],
      "text/plain": [
       "0.25*d**2 - 3.0*d - 6.0*d*exp(-d/3) + 18.0"
      ]
     },
     "execution_count": 69,
     "metadata": {},
     "output_type": "execute_result"
    }
   ],
   "source": [
    "## Total deteroriation calculation\n",
    "Dtotal = sym.simplify(Din+Dout)\n",
    "print(\"Total Distortion:\")\n",
    "sym.simplify(Dtotal)\n",
    "# print(latex(sym.simplify(Dtotal)))"
   ]
  },
  {
   "cell_type": "code",
   "execution_count": 87,
   "metadata": {},
   "outputs": [
    {
     "name": "stdout",
     "output_type": "stream",
     "text": [
      "The value of optimal step size d: 0.7905790579057906\n",
      "The value of distortion at optimal step size d: 16.883402359501012\n"
     ]
    },
    {
     "data": {
      "image/png": "[encoded data removed]",
      "text/plain": [
       "<Figure size 432x288 with 1 Axes>"
      ]
     },
     "metadata": {
      "needs_background": "light"
     },
     "output_type": "display_data"
    }
   ],
   "source": [
    "### Plot the value of distortion for different values of d to find the optimal value of d\n",
    "import numpy as np\n",
    "import matplotlib.pyplot as plt\n",
    "d = np.linspace(0.0,5.0,10000)\n",
    "plotd = 0.25*d**2 + 3.0*d -6.0*d*np.exp(-d/3.0) +18.0\n",
    "dopt = d[np.argmin(plotd)]\n",
    "print(f\"The value of optimal step size d: {dopt}\")\n",
    "print(f\"The value of distortion at optimal step size d: {min(plotd)}\")\n",
    "\n",
    "fig = plt.figure()\n",
    "ax = fig.add_axes([0,0,1,1])\n",
    "l1 = ax.plot(d, plotd) # solid line with yellow colour and square marker\n",
    "ax.set_title(\"Distortion for different step sizes\")\n",
    "ax.set_xlabel('Step size(d)')\n",
    "ax.set_ylabel('Distortion(MSE)')\n",
    "plt.show()"
   ]
  },
  {
   "cell_type": "code",
   "execution_count": 88,
   "metadata": {},
   "outputs": [
    {
     "name": "stdout",
     "output_type": "stream",
     "text": [
      "The optimal quantization pts are: [[0.3952895289528953], [1.185868586858686]]\n",
      "The decision boundaries are: [[0.0], [0.7905790579057906], [1.5811581158115813]]\n",
      "Distortion achieved by the optimal quantizer 12.139928012066267\n"
     ]
    }
   ],
   "source": [
    "# Since the given pdf is symmetric around x=0, so we will consider a symmetric quantizer. \n",
    "# We need three thresholds and 2 respresentation levels y_i for this. \n",
    "# Let say de is the step size as calculated above\n",
    "\n",
    "\n",
    "xi = [[i*dopt for i in z] for z in [[0],[1],[2]]]\n",
    "yi = [[(i-0.5)*dopt for i in z] for z in [[1],[2]]]\n",
    "Dtotal = 0.25*dopt**2 - 3.0*dopt -6.0*dopt*math.exp(-dopt/3.0)+18.0\n",
    "print(f\"The optimal quantization pts are: {yi}\")\n",
    "print(f\"The decision boundaries are: {xi}\")\n",
    "print(f\"Distortion achieved by the optimal quantizer {Dtotal}\")\n"
   ]
  },
  {
   "cell_type": "code",
   "execution_count": 71,
   "metadata": {},
   "outputs": [
    {
     "data": {
      "text/latex": [
       "$\\displaystyle \\left(2.0 d + \\left(0.5 d - 3.0\\right) e^{\\frac{d}{3}} - 6.0\\right) e^{- \\frac{d}{3}}$"
      ],
      "text/plain": [
       "(2.0*d + (0.5*d - 3.0)*exp(d/3) - 6.0)*exp(-d/3)"
      ]
     },
     "execution_count": 71,
     "metadata": {},
     "output_type": "execute_result"
    }
   ],
   "source": [
    "## Let's minimize total distortion with respect to the value of d\n",
    "## Let's differentiate Df w.r.t d\n",
    "# Dtotal_dd = sym.diff(Dtotal, d)\n",
    "# sym.simplify(Dtotal_dd)\n",
    "# print(latex(sym.simplify(Dtotal_dd)))"
   ]
  },
  {
   "cell_type": "code",
   "execution_count": 22,
   "metadata": {},
   "outputs": [
    {
     "name": "stdout",
     "output_type": "stream",
     "text": [
      "11.82705283900893\n"
     ]
    }
   ],
   "source": [
    "## Equating Df_dd with zero we get \n",
    "# import math\n",
    "# dnext = lambda d: 6+ (12-4*d)/math.exp(d/3)\n",
    "\n",
    "# ### We will solve this iteratively now\n",
    "# d0 = math.log(4)/math.sqrt(2) \n",
    "# d1 = dnext(d0) ## The optimal quatization step size\n",
    "# print(d1)\n"
   ]
  },
  {
   "cell_type": "code",
   "execution_count": 49,
   "metadata": {},
   "outputs": [
    {
     "name": "stdout",
     "output_type": "stream",
     "text": [
      "The optimal quantization pts are: [[5.913526419504465], [17.740579258513396]]\n",
      "The decision boundaries are: [[0.0], [11.82705283900893], [23.65410567801786]]\n",
      "Distortion achieved by the optimal quantizer 16.111786524208554\n"
     ]
    }
   ],
   "source": [
    "# Since the given pdf is symmetric around x=0, so we will consider a symmetric quantizer. \n",
    "# We need three thresholds and 2 respresentation levels y_i for this. \n",
    "# Let say de is the step size as calculated above\n",
    "\n",
    "# de = d1\n",
    "# xi = [[i*de for i in z] for z in [[0],[1],[2]]]\n",
    "# yi = [[(i-0.5)*de for i in z] for z in [[1],[2]]]\n",
    "# Dtotal = 0.25*de**2 - 3.0*de -6.0*de*math.exp(-de/3.0)+18.0\n",
    "# print(f\"The optimal quantization pts are: {yi}\")\n",
    "# print(f\"The decision boundaries are: {xi}\")\n",
    "# print(f\"Distortion achieved by the optimal quantizer {Dtotal}\")\n"
   ]
  }
 ],
 "metadata": {
  "kernelspec": {
   "display_name": "Python (py37)",
   "language": "python",
   "name": "py37"
  },
  "language_info": {
   "codemirror_mode": {
    "name": "ipython",
    "version": 3
   },
   "file_extension": ".py",
   "mimetype": "text/x-python",
   "name": "python",
   "nbconvert_exporter": "python",
   "pygments_lexer": "ipython3",
   "version": "3.7.7"
  }
 },
 "nbformat": 4,
 "nbformat_minor": 4
}
