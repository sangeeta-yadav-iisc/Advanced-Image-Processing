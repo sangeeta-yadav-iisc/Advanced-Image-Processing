{
 "cells": [
  {
   "cell_type": "code",
   "execution_count": 1,
   "metadata": {},
   "outputs": [],
   "source": [
    "from sklearn.metrics import mean_squared_error\n",
    "from skimage.metrics import structural_similarity as ssim\n",
    "# from skimage import data, img_as_float\n",
    "import pandas as pd\n",
    "import cv2\n",
    "import lpips\n",
    "import os\n",
    "import torch\n",
    "pd.options.mode.chained_assignment = None"
   ]
  },
  {
   "cell_type": "code",
   "execution_count": 2,
   "metadata": {},
   "outputs": [],
   "source": [
    "import scipy.io as sio\n",
    "from scipy import stats\n",
    "test = sio.loadmat('hw5/hw5.mat')"
   ]
  },
  {
   "cell_type": "code",
   "execution_count": 3,
   "metadata": {},
   "outputs": [
    {
     "data": {
      "text/html": [
       "<div>\n",
       "<style scoped>\n",
       "    .dataframe tbody tr th:only-of-type {\n",
       "        vertical-align: middle;\n",
       "    }\n",
       "\n",
       "    .dataframe tbody tr th {\n",
       "        vertical-align: top;\n",
       "    }\n",
       "\n",
       "    .dataframe thead th {\n",
       "        text-align: right;\n",
       "    }\n",
       "</style>\n",
       "<table border=\"1\" class=\"dataframe\">\n",
       "  <thead>\n",
       "    <tr style=\"text-align: right;\">\n",
       "      <th></th>\n",
       "      <th>3</th>\n",
       "      <th>4</th>\n",
       "      <th>5</th>\n",
       "    </tr>\n",
       "  </thead>\n",
       "  <tbody>\n",
       "    <tr>\n",
       "      <th>1</th>\n",
       "      <td>[[42.127765361449555, 37.462720322546936, 43.2...</td>\n",
       "      <td>[[0, 0, 0, 0, 0, 0, 0, 0, 0, 0, 0, 0, 0, 0, 0,...</td>\n",
       "      <td>[[[caps.bmp], [churchandcapitol.bmp], [monarch...</td>\n",
       "    </tr>\n",
       "  </tbody>\n",
       "</table>\n",
       "</div>"
      ],
      "text/plain": [
       "                                                   3  \\\n",
       "1  [[42.127765361449555, 37.462720322546936, 43.2...   \n",
       "\n",
       "                                                   4  \\\n",
       "1  [[0, 0, 0, 0, 0, 0, 0, 0, 0, 0, 0, 0, 0, 0, 0,...   \n",
       "\n",
       "                                                   5  \n",
       "1  [[[caps.bmp], [churchandcapitol.bmp], [monarch...  "
      ]
     },
     "execution_count": 3,
     "metadata": {},
     "output_type": "execute_result"
    }
   ],
   "source": [
    "## Preprocessing the mat file to generate a dataframe without the meta information\n",
    "df = pd.DataFrame(test.items())\n",
    "df = df.T\n",
    "df = df.drop(df.columns[[0, 1, 2]], 1)\n",
    "df = df.drop([0], 0)\n",
    "df.head()"
   ]
  },
  {
   "cell_type": "code",
   "execution_count": 4,
   "metadata": {},
   "outputs": [
    {
     "data": {
      "text/html": [
       "<div>\n",
       "<style scoped>\n",
       "    .dataframe tbody tr th:only-of-type {\n",
       "        vertical-align: middle;\n",
       "    }\n",
       "\n",
       "    .dataframe tbody tr th {\n",
       "        vertical-align: top;\n",
       "    }\n",
       "\n",
       "    .dataframe thead th {\n",
       "        text-align: right;\n",
       "    }\n",
       "</style>\n",
       "<table border=\"1\" class=\"dataframe\">\n",
       "  <thead>\n",
       "    <tr style=\"text-align: right;\">\n",
       "      <th></th>\n",
       "      <th>refnames_blur</th>\n",
       "      <th>blur_dmos</th>\n",
       "      <th>blur_orgs</th>\n",
       "    </tr>\n",
       "  </thead>\n",
       "  <tbody>\n",
       "    <tr>\n",
       "      <th>0</th>\n",
       "      <td>[caps.bmp]</td>\n",
       "      <td>42.127765</td>\n",
       "      <td>0</td>\n",
       "    </tr>\n",
       "    <tr>\n",
       "      <th>1</th>\n",
       "      <td>[churchandcapitol.bmp]</td>\n",
       "      <td>37.462720</td>\n",
       "      <td>0</td>\n",
       "    </tr>\n",
       "    <tr>\n",
       "      <th>2</th>\n",
       "      <td>[monarch.bmp]</td>\n",
       "      <td>43.264560</td>\n",
       "      <td>0</td>\n",
       "    </tr>\n",
       "    <tr>\n",
       "      <th>3</th>\n",
       "      <td>[lighthouse.bmp]</td>\n",
       "      <td>19.510097</td>\n",
       "      <td>0</td>\n",
       "    </tr>\n",
       "    <tr>\n",
       "      <th>4</th>\n",
       "      <td>[plane.bmp]</td>\n",
       "      <td>72.829422</td>\n",
       "      <td>0</td>\n",
       "    </tr>\n",
       "  </tbody>\n",
       "</table>\n",
       "</div>"
      ],
      "text/plain": [
       "            refnames_blur  blur_dmos  blur_orgs\n",
       "0              [caps.bmp]  42.127765          0\n",
       "1  [churchandcapitol.bmp]  37.462720          0\n",
       "2           [monarch.bmp]  43.264560          0\n",
       "3        [lighthouse.bmp]  19.510097          0\n",
       "4             [plane.bmp]  72.829422          0"
      ]
     },
     "execution_count": 4,
     "metadata": {},
     "output_type": "execute_result"
    }
   ],
   "source": [
    "datas = list(zip(df[5][1][0][:].reshape(-1),df[3][1][:].reshape(-1),df[4][1][:].reshape(-1)))\n",
    "dfnew = pd.DataFrame(datas, columns = ['refnames_blur','blur_dmos', 'blur_orgs'])\n",
    "dfnew.head()\n",
    "\n",
    "## Drop the rows with original images\n",
    "dfnew.drop(dfnew[dfnew['blur_orgs'] == 1].index, inplace = True)\n",
    "dfnew.head()"
   ]
  },
  {
   "cell_type": "code",
   "execution_count": 5,
   "metadata": {},
   "outputs": [
    {
     "name": "stdout",
     "output_type": "stream",
     "text": [
      "Setting up [LPIPS] perceptual loss: trunk [alex], v[0.1], spatial [off]\n",
      "Loading model from: /home/sangeeta/miniconda3/envs/py37/lib/python3.7/site-packages/lpips/weights/v0.1/alex.pth\n"
     ]
    },
    {
     "data": {
      "text/html": [
       "<div>\n",
       "<style scoped>\n",
       "    .dataframe tbody tr th:only-of-type {\n",
       "        vertical-align: middle;\n",
       "    }\n",
       "\n",
       "    .dataframe tbody tr th {\n",
       "        vertical-align: top;\n",
       "    }\n",
       "\n",
       "    .dataframe thead th {\n",
       "        text-align: right;\n",
       "    }\n",
       "</style>\n",
       "<table border=\"1\" class=\"dataframe\">\n",
       "  <thead>\n",
       "    <tr style=\"text-align: right;\">\n",
       "      <th></th>\n",
       "      <th>refnames_blur</th>\n",
       "      <th>blur_dmos</th>\n",
       "      <th>blur_orgs</th>\n",
       "      <th>mse</th>\n",
       "      <th>ssim</th>\n",
       "      <th>lpips</th>\n",
       "    </tr>\n",
       "  </thead>\n",
       "  <tbody>\n",
       "    <tr>\n",
       "      <th>0</th>\n",
       "      <td>[caps.bmp]</td>\n",
       "      <td>42.127765</td>\n",
       "      <td>0</td>\n",
       "      <td>18.6194</td>\n",
       "      <td>0.890867</td>\n",
       "      <td>0.125209</td>\n",
       "    </tr>\n",
       "    <tr>\n",
       "      <th>1</th>\n",
       "      <td>[churchandcapitol.bmp]</td>\n",
       "      <td>37.462720</td>\n",
       "      <td>0</td>\n",
       "      <td>38.2939</td>\n",
       "      <td>0.879016</td>\n",
       "      <td>0.12677</td>\n",
       "    </tr>\n",
       "    <tr>\n",
       "      <th>2</th>\n",
       "      <td>[monarch.bmp]</td>\n",
       "      <td>43.264560</td>\n",
       "      <td>0</td>\n",
       "      <td>29.898</td>\n",
       "      <td>0.861866</td>\n",
       "      <td>0.205707</td>\n",
       "    </tr>\n",
       "    <tr>\n",
       "      <th>3</th>\n",
       "      <td>[lighthouse.bmp]</td>\n",
       "      <td>19.510097</td>\n",
       "      <td>0</td>\n",
       "      <td>7.40016</td>\n",
       "      <td>0.989553</td>\n",
       "      <td>0.0169834</td>\n",
       "    </tr>\n",
       "    <tr>\n",
       "      <th>4</th>\n",
       "      <td>[plane.bmp]</td>\n",
       "      <td>72.829422</td>\n",
       "      <td>0</td>\n",
       "      <td>40.4085</td>\n",
       "      <td>0.690554</td>\n",
       "      <td>0.232754</td>\n",
       "    </tr>\n",
       "  </tbody>\n",
       "</table>\n",
       "</div>"
      ],
      "text/plain": [
       "            refnames_blur  blur_dmos  blur_orgs      mse      ssim      lpips\n",
       "0              [caps.bmp]  42.127765          0  18.6194  0.890867   0.125209\n",
       "1  [churchandcapitol.bmp]  37.462720          0  38.2939  0.879016    0.12677\n",
       "2           [monarch.bmp]  43.264560          0   29.898  0.861866   0.205707\n",
       "3        [lighthouse.bmp]  19.510097          0  7.40016  0.989553  0.0169834\n",
       "4             [plane.bmp]  72.829422          0  40.4085  0.690554   0.232754"
      ]
     },
     "execution_count": 5,
     "metadata": {},
     "output_type": "execute_result"
    }
   ],
   "source": [
    "# Calculate mse, ssim, lpips and store in the dfnew\n",
    "loss_fn = lpips.LPIPS(net='alex')\n",
    "\n",
    "img_path = '/home/sangeeta/Desktop/phd/sem/10th sem/Image_processing/assignment4/ques3/hw5/gblur'\n",
    "ref_path = '/home/sangeeta/Desktop/phd/sem/10th sem/Image_processing/assignment4/ques3/hw5/refimgs'\n",
    "\n",
    "dfnew['mse'] = \"\"\n",
    "dfnew['ssim'] = \"\"\n",
    "dfnew['lpips'] = \"\"\n",
    "for i in range(len(dfnew['refnames_blur'])):\n",
    "    ref_img = cv2.imread(os.path.join(ref_path,dfnew['refnames_blur'][i].item()))\n",
    "    img = cv2.imread(os.path.join(img_path,'img'+str(i+1)+'.bmp'))\n",
    "    \n",
    "    ref_img_ten = torch.tensor(ref_img.transpose([2,0,1])).unsqueeze(0)\n",
    "    img_ten = torch.tensor(img.transpose([2,0,1])).unsqueeze(0)\n",
    "    dfnew['mse'][i]  = mean_squared_error(ref_img.reshape([-1]),img.reshape([-1]))\n",
    "    dfnew['ssim'][i]= ssim(ref_img,img,data_range=img.max() - img.min(),multichannel=True)\n",
    "    dfnew['lpips'][i] = loss_fn.forward(ref_img_ten,img_ten).item()\n",
    "\n",
    "dfnew.to_csv(\"result.csv\",index=False)\n",
    "dfnew.head()"
   ]
  },
  {
   "cell_type": "code",
   "execution_count": 6,
   "metadata": {},
   "outputs": [],
   "source": [
    "## Calculate Spearman rank order correlation coefficient for the metrics calculated in Part A\n",
    "\n",
    "sp_dmos = stats.spearmanr(dfnew['blur_dmos'],dfnew['blur_dmos'])\n",
    "sp_mse = stats.spearmanr(dfnew[\"mse\"],dfnew['blur_dmos'])\n",
    "sp_ssim = stats.spearmanr(dfnew[\"ssim\"],dfnew['blur_dmos'])\n",
    "sp_lpips = stats.spearmanr(dfnew[\"lpips\"],dfnew['blur_dmos'])"
   ]
  },
  {
   "cell_type": "code",
   "execution_count": 7,
   "metadata": {},
   "outputs": [
    {
     "name": "stdout",
     "output_type": "stream",
     "text": [
      "Spearman rank order correlation coefficient for\n",
      "Human Opinion: SpearmanrResult(correlation=0.9999999999999998, pvalue=0.0)\n",
      "Mean squared error in pixel domain: SpearmanrResult(correlation=0.6607345299952763, pvalue=1.530215622624923e-19)\n",
      "Single scale structural similarity index: SpearmanrResult(correlation=-0.9213194772476775, pvalue=1.5504169627935235e-60)\n",
      "Learned perceptual image patch similarity metric: SpearmanrResult(correlation=0.8724137931034482, pvalue=2.6518716703443e-46)\n"
     ]
    }
   ],
   "source": [
    "print(\"Spearman rank order correlation coefficient for\")\n",
    "print(f\"Human Opinion: {sp_dmos}\")\n",
    "print(f\"Mean squared error in pixel domain: {sp_mse}\")\n",
    "print(f\"Single scale structural similarity index: {sp_ssim}\")\n",
    "print(f\"Learned perceptual image patch similarity metric: {sp_lpips}\")"
   ]
  }
 ],
 "metadata": {
  "kernelspec": {
   "display_name": "Python 3",
   "language": "python",
   "name": "python3"
  },
  "language_info": {
   "codemirror_mode": {
    "name": "ipython",
    "version": 3
   },
   "file_extension": ".py",
   "mimetype": "text/x-python",
   "name": "python",
   "nbconvert_exporter": "python",
   "pygments_lexer": "ipython3",
   "version": "3.7.7"
  }
 },
 "nbformat": 4,
 "nbformat_minor": 4
}
