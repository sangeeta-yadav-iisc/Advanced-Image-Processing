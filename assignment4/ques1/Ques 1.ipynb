{
 "cells": [
  {
   "cell_type": "code",
   "execution_count": 1,
   "metadata": {},
   "outputs": [],
   "source": [
    "## Implementing JPEG"
   ]
  },
  {
   "cell_type": "code",
   "execution_count": 1,
   "metadata": {},
   "outputs": [],
   "source": [
    "import cv2, os\n",
    "import numpy as np\n",
    "import matplotlib.pyplot as plt\n",
    "import math \n",
    "from matplotlib.colors import Normalize\n",
    "import matplotlib.cm as cm\n",
    "np.set_printoptions(precision=2,suppress=True)\n",
    "\n"
   ]
  },
  {
   "cell_type": "code",
   "execution_count": 10,
   "metadata": {},
   "outputs": [
    {
     "name": "stdout",
     "output_type": "stream",
     "text": [
      "The size of the input image is 65240 bytes\n"
     ]
    }
   ],
   "source": [
    "### Find the size of the input imgae\n",
    "print(f\"The size of the input image is {os.path.getsize('cameraman.tif')} bytes\")"
   ]
  },
  {
   "cell_type": "code",
   "execution_count": 3,
   "metadata": {},
   "outputs": [],
   "source": [
    "def DCTcoefficient(gray_img,B=8):\n",
    "    h,w = gray_img.shape\n",
    "    blocksV=h//B\n",
    "    blocksH=w//B\n",
    "    vis0 = np.zeros((h,w), np.float32)\n",
    "    Trans = np.zeros((h,w), np.float32)\n",
    "    vis0[:h, :w] = gray_img\n",
    "    for row in range(blocksV):\n",
    "            for col in range(blocksH):\n",
    "                    currentblock = cv2.dct(vis0[row*B:(row+1)*B,col*B:(col+1)*B])\n",
    "                    Trans[row*B:(row+1)*B,col*B:(col+1)*B]=currentblock\n",
    "    cv2.imwrite('Transformed.jpg', Trans)\n",
    "    return Trans\n",
    "# cv2.cv.SaveImage('Transformed.jpg', cv2.cv.fromarray(Trans))"
   ]
  },
  {
   "cell_type": "code",
   "execution_count": 4,
   "metadata": {},
   "outputs": [],
   "source": [
    "def Qmatrix(a,b,c):\n",
    "    #     a,b,c= 10,40,20\n",
    "    Q = np.array([[c,a,b,b,b,b,b,b],\n",
    "     [a,a,b,b,b,b,b,b],\n",
    "    [b,b,b,b,b,b,b,b],\n",
    "    [b,b,b,b,b,b,b,b],\n",
    "    [b,b,b,b,b,b,b,b],\n",
    "    [b,b,b,b,b,b,b,b],\n",
    "    [b,b,b,b,b,b,b,b],\n",
    "    [b,b,b,b,b,b,b,b]])\n",
    "    return Q"
   ]
  },
  {
   "cell_type": "code",
   "execution_count": 5,
   "metadata": {},
   "outputs": [],
   "source": [
    "## Quantization\n",
    "def quantize(A,Q):\n",
    "    h,w = A.shape\n",
    "    y = np.zeros((h,w), np.float32)\n",
    "    for i in range(Q.shape[0]):\n",
    "        for j in range(Q.shape[1]):\n",
    "            y[i,j] = np.floor((A[i,j]/Q[i,j])  + 0.5)\n",
    "    return y\n",
    "    "
   ]
  },
  {
   "cell_type": "code",
   "execution_count": 6,
   "metadata": {},
   "outputs": [],
   "source": [
    "# Lossless source coding\n",
    "# A matrix has all the quantized dct coefficients\n",
    "\n",
    "def encode_single(x):\n",
    "    x = np.int16(x)\n",
    "    if(x == 0):\n",
    "        return '0'\n",
    "    l = int(np.log2(np.abs(x)))\n",
    "    if(x < 0):\n",
    "        b = np.binary_repr((abs(x) ^ 2**(l+1)-1),width = l+1)\n",
    "    else:\n",
    "        b = np.binary_repr(x)\n",
    "    return (l+1)*'1' + '0' + b\n",
    "\n",
    "# print(encode_single(-7))"
   ]
  },
  {
   "cell_type": "code",
   "execution_count": 7,
   "metadata": {},
   "outputs": [],
   "source": [
    "\n",
    "def bitstream(A,B=8):\n",
    "    h,w = A.shape\n",
    "    blocksV=h//B\n",
    "    blocksH=w//B\n",
    "    output_stream = \"\"\n",
    "    for row in range(blocksV):\n",
    "            for col in range(blocksH):\n",
    "                z = A[row*B:(row+1)*B,col*B:(col+1)*B].flatten()\n",
    "                for i in range(len(z)):\n",
    "                    output_stream = output_stream+encode_single(z[i])\n",
    "    with open('bitstream.txt', 'w') as f:\n",
    "        f.write(output_stream)\n",
    "    return output_stream\n",
    "      "
   ]
  },
  {
   "cell_type": "code",
   "execution_count": 8,
   "metadata": {},
   "outputs": [],
   "source": [
    "def decode(os):\n",
    "    m = len(os)\n",
    "    count = 1\n",
    "    onecount = 0\n",
    "    x= 1\n",
    "    D = np.zeros(m)\n",
    "    while x< m+1:\n",
    "        a = os[x-1]\n",
    "        if a ==1:\n",
    "            onecount+=1\n",
    "        elif a==0 and onecount ==0:\n",
    "            D[count] = 0\n",
    "        elif a==0 and onecount>0:\n",
    "            l = 2**onecount\n",
    "#             s= os(x:x+1)#(x+1:x+onecount)\n",
    "            b = binaryToDecimal(s)\n",
    "            if b<0.5:\n",
    "                D[count] = b-l+1\n",
    "            else:\n",
    "                D[count] = b\n",
    "            count+=1\n",
    "            x+=onecount\n",
    "            onecount = 0\n",
    "        x+=1\n",
    "    return D\n",
    "        \n",
    "                "
   ]
  },
  {
   "cell_type": "code",
   "execution_count": 9,
   "metadata": {},
   "outputs": [],
   "source": [
    "def requantize(A,Q,B=8):\n",
    "    h,w = A.shape\n",
    "    blocksV=h//B\n",
    "    blocksH=w//B\n",
    "    R = np.zeros((h,w), np.float32)\n",
    "    for row in range(blocksV):\n",
    "        for col in range(blocksH):\n",
    "                currentblock = A[row*B:(row+1)*B,col*B:(col+1)*B]\n",
    "                R[row*B:(row+1)*B,col*B:(col+1)*B]=currentblock*Q\n",
    "    return R\n",
    "    \n",
    "\n",
    "#     m,n = A.shape\n",
    "#     nstride = m//8\n",
    "#     inc = 8-1\n",
    "#     icol = 1\n",
    "#     for x in range(nstride):\n",
    "#         irow = 0\n",
    "#         for y in range(nstride):\n",
    "#             A1 = A[irow:irow+inc,icol:icol+inc]\n",
    "#             A[irow:irow+inc,icol:icol+inc] = A1*Q\n",
    "    \n",
    "    \n",
    "    \n"
   ]
  },
  {
   "cell_type": "code",
   "execution_count": 10,
   "metadata": {},
   "outputs": [],
   "source": [
    "def iDCTCoefficient(A,B=8):\n",
    "    h,w = A.shape\n",
    "    blocksV=h//B\n",
    "    blocksH=w//B\n",
    "    vis0 = np.zeros((h,w), np.float32)\n",
    "    Trans = np.zeros((h,w), np.float32)\n",
    "    vis0[:h, :w] = gray_img\n",
    "    for row in range(blocksV):\n",
    "            for col in range(blocksH):\n",
    "                    currentblock = cv2.idct(vis0[row*B:(row+1)*B,col*B:(col+1)*B])\n",
    "                    Trans[row*B:(row+1)*B,col*B:(col+1)*B]=currentblock\n",
    "    return Trans\n"
   ]
  },
  {
   "cell_type": "code",
   "execution_count": 11,
   "metadata": {},
   "outputs": [],
   "source": [
    "def rearrange(decode):\n",
    "    B = np.reshape(decode, (-1, 2))\n",
    "    return B\n",
    "    "
   ]
  },
  {
   "cell_type": "code",
   "execution_count": 14,
   "metadata": {},
   "outputs": [
    {
     "name": "stdout",
     "output_type": "stream",
     "text": [
      "shape of Q-matrix(8, 8)\n",
      "shape of qdctI matrix (256, 256)\n",
      "shape of ostream matrix 65548\n",
      "shape of decodes matrix (65548,)\n",
      "shape of decodeI matrix (32774, 2)\n",
      "shape of rdctI matrix(32774, 2)\n"
     ]
    },
    {
     "ename": "ValueError",
     "evalue": "could not broadcast input array from shape (256,256) into shape (32774,2)",
     "output_type": "error",
     "traceback": [
      "\u001b[0;31m---------------------------------------------------------------------------\u001b[0m",
      "\u001b[0;31mValueError\u001b[0m                                Traceback (most recent call last)",
      "\u001b[0;32m<ipython-input-14-0f984d4f3c4a>\u001b[0m in \u001b[0;36m<module>\u001b[0;34m\u001b[0m\n\u001b[1;32m     22\u001b[0m \u001b[0mrdctI\u001b[0m \u001b[0;34m=\u001b[0m \u001b[0mrequantize\u001b[0m\u001b[0;34m(\u001b[0m\u001b[0mdecodeI\u001b[0m\u001b[0;34m,\u001b[0m\u001b[0mQ\u001b[0m\u001b[0;34m,\u001b[0m \u001b[0mB\u001b[0m\u001b[0;34m=\u001b[0m\u001b[0;36m8\u001b[0m\u001b[0;34m)\u001b[0m\u001b[0;34m\u001b[0m\u001b[0;34m\u001b[0m\u001b[0m\n\u001b[1;32m     23\u001b[0m \u001b[0mprint\u001b[0m\u001b[0;34m(\u001b[0m\u001b[0;34mf\"shape of rdctI matrix{rdctI.shape}\"\u001b[0m\u001b[0;34m)\u001b[0m\u001b[0;34m\u001b[0m\u001b[0;34m\u001b[0m\u001b[0m\n\u001b[0;32m---> 24\u001b[0;31m \u001b[0mIdctI\u001b[0m \u001b[0;34m=\u001b[0m \u001b[0miDCTCoefficient\u001b[0m\u001b[0;34m(\u001b[0m\u001b[0mrdctI\u001b[0m\u001b[0;34m)\u001b[0m\u001b[0;34m\u001b[0m\u001b[0;34m\u001b[0m\u001b[0m\n\u001b[0m\u001b[1;32m     25\u001b[0m \u001b[0;34m\u001b[0m\u001b[0m\n\u001b[1;32m     26\u001b[0m \u001b[0;34m\u001b[0m\u001b[0m\n",
      "\u001b[0;32m<ipython-input-10-6231995b745f>\u001b[0m in \u001b[0;36miDCTCoefficient\u001b[0;34m(A, B)\u001b[0m\n\u001b[1;32m      5\u001b[0m     \u001b[0mvis0\u001b[0m \u001b[0;34m=\u001b[0m \u001b[0mnp\u001b[0m\u001b[0;34m.\u001b[0m\u001b[0mzeros\u001b[0m\u001b[0;34m(\u001b[0m\u001b[0;34m(\u001b[0m\u001b[0mh\u001b[0m\u001b[0;34m,\u001b[0m\u001b[0mw\u001b[0m\u001b[0;34m)\u001b[0m\u001b[0;34m,\u001b[0m \u001b[0mnp\u001b[0m\u001b[0;34m.\u001b[0m\u001b[0mfloat32\u001b[0m\u001b[0;34m)\u001b[0m\u001b[0;34m\u001b[0m\u001b[0;34m\u001b[0m\u001b[0m\n\u001b[1;32m      6\u001b[0m     \u001b[0mTrans\u001b[0m \u001b[0;34m=\u001b[0m \u001b[0mnp\u001b[0m\u001b[0;34m.\u001b[0m\u001b[0mzeros\u001b[0m\u001b[0;34m(\u001b[0m\u001b[0;34m(\u001b[0m\u001b[0mh\u001b[0m\u001b[0;34m,\u001b[0m\u001b[0mw\u001b[0m\u001b[0;34m)\u001b[0m\u001b[0;34m,\u001b[0m \u001b[0mnp\u001b[0m\u001b[0;34m.\u001b[0m\u001b[0mfloat32\u001b[0m\u001b[0;34m)\u001b[0m\u001b[0;34m\u001b[0m\u001b[0;34m\u001b[0m\u001b[0m\n\u001b[0;32m----> 7\u001b[0;31m     \u001b[0mvis0\u001b[0m\u001b[0;34m[\u001b[0m\u001b[0;34m:\u001b[0m\u001b[0mh\u001b[0m\u001b[0;34m,\u001b[0m \u001b[0;34m:\u001b[0m\u001b[0mw\u001b[0m\u001b[0;34m]\u001b[0m \u001b[0;34m=\u001b[0m \u001b[0mgray_img\u001b[0m\u001b[0;34m\u001b[0m\u001b[0;34m\u001b[0m\u001b[0m\n\u001b[0m\u001b[1;32m      8\u001b[0m     \u001b[0;32mfor\u001b[0m \u001b[0mrow\u001b[0m \u001b[0;32min\u001b[0m \u001b[0mrange\u001b[0m\u001b[0;34m(\u001b[0m\u001b[0mblocksV\u001b[0m\u001b[0;34m)\u001b[0m\u001b[0;34m:\u001b[0m\u001b[0;34m\u001b[0m\u001b[0;34m\u001b[0m\u001b[0m\n\u001b[1;32m      9\u001b[0m             \u001b[0;32mfor\u001b[0m \u001b[0mcol\u001b[0m \u001b[0;32min\u001b[0m \u001b[0mrange\u001b[0m\u001b[0;34m(\u001b[0m\u001b[0mblocksH\u001b[0m\u001b[0;34m)\u001b[0m\u001b[0;34m:\u001b[0m\u001b[0;34m\u001b[0m\u001b[0;34m\u001b[0m\u001b[0m\n",
      "\u001b[0;31mValueError\u001b[0m: could not broadcast input array from shape (256,256) into shape (32774,2)"
     ]
    }
   ],
   "source": [
    "B=8 #blocksize\n",
    "img = cv2.imread('cameraman.tif')\n",
    "gray_img = cv2.cvtColor(img, cv2.COLOR_BGR2GRAY)\n",
    "h,w = gray_img.shape\n",
    "dctI = DCTcoefficient(gray_img,B=8)\n",
    "a,b,c= 10,40,20\n",
    "Q = Qmatrix(a,b,c)\n",
    "print(f\"shape of Q-matrix{Q.shape}\")\n",
    "\n",
    "qdctI = quantize(dctI,Q)\n",
    "print(f\"shape of qdctI matrix {qdctI.shape}\")\n",
    "\n",
    "ostream = bitstream(qdctI ,B=8)\n",
    "print(f\"shape of ostream matrix {len(ostream)}\")\n",
    "\n",
    "decodes= decode(ostream)\n",
    "print(f\"shape of decodes matrix {decodes.shape}\")\n",
    "\n",
    "decodeI = rearrange(decodes)\n",
    "print(f\"shape of decodeI matrix {decodeI.shape}\")\n",
    "\n",
    "rdctI = requantize(decodeI,Q, B=8)\n",
    "print(f\"shape of rdctI matrix{rdctI.shape}\")\n",
    "IdctI = iDCTCoefficient(rdctI)\n",
    "\n",
    "\n",
    "    \n"
   ]
  },
  {
   "cell_type": "code",
   "execution_count": null,
   "metadata": {},
   "outputs": [],
   "source": [
    "# print(decode.shape)\n",
    "# 256*256"
   ]
  },
  {
   "cell_type": "code",
   "execution_count": null,
   "metadata": {},
   "outputs": [],
   "source": [
    "## Reconstruction of x\n",
    "# xhat = np.zeros((h,w), np.float32)\n",
    "# for i in range(Q.shape[0]):\n",
    "#     for j in range(Q.shape[1]):\n",
    "#         xhat[i,j] = y[i,j]*Q[i,j]\n"
   ]
  },
  {
   "cell_type": "code",
   "execution_count": null,
   "metadata": {},
   "outputs": [],
   "source": [
    "# row, col = gray_img.shape\n",
    "# newI = np.zeros(shape=gray_img.shape, dtype=np.uint8)\n",
    "# for k1 in range(row):\n",
    "#     for k2 in range(col):\n",
    "#         for n1 in range(row):\n",
    "#             for n2 in range(col):\n",
    "#                 newI[k1][k2]+=gray_img[n1][n2]*math.cos(math.pi*k1*(n1+0.5)/row)*math.cos(math.pi*k2*(n1+0.5)/col)"
   ]
  }
 ],
 "metadata": {
  "kernelspec": {
   "display_name": "Python 3",
   "language": "python",
   "name": "python3"
  },
  "language_info": {
   "codemirror_mode": {
    "name": "ipython",
    "version": 3
   },
   "file_extension": ".py",
   "mimetype": "text/x-python",
   "name": "python",
   "nbconvert_exporter": "python",
   "pygments_lexer": "ipython3",
   "version": "3.7.7"
  }
 },
 "nbformat": 4,
 "nbformat_minor": 5
}
