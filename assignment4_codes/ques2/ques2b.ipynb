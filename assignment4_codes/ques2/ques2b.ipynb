{
 "cells": [
  {
   "cell_type": "code",
   "execution_count": 1,
   "metadata": {},
   "outputs": [],
   "source": [
    "# Max-Lloyd algorithm for finding the optimal quantizer\n",
    "# in dimension 1\n",
    "\n",
    "import math\n",
    "import random\n",
    "import scipy\n",
    "import matplotlib.pyplot as plt\n",
    "from scipy import integrate\n"
   ]
  },
  {
   "cell_type": "code",
   "execution_count": 2,
   "metadata": {},
   "outputs": [
    {
     "name": "stdout",
     "output_type": "stream",
     "text": [
      " The final quantization pts:[-7.718930280736243, -1.7196620707029497, 1.843343474902322, 7.844105824321014]\n",
      " The final decision boundaries: [-4.718930280736245, 0.06220978551377199, 4.844105824321017]\n"
     ]
    },
    {
     "data": {
      "image/png": "[encoded data removed]",
      "text/plain": [
       "<Figure size 432x288 with 1 Axes>"
      ]
     },
     "metadata": {
      "needs_background": "light"
     },
     "output_type": "display_data"
    },
    {
     "name": "stdout",
     "output_type": "stream",
     "text": [
      " Value of distortion at optimal step size d: 3.171523279994727\n"
     ]
    }
   ],
   "source": [
    "\n",
    "## pdf of the given source function\n",
    "\n",
    "def laplacian(x):\n",
    "    return (math.exp(-abs(x)/3.0))/6.0\n",
    "\n",
    "# function studied: chose between uniform and gaussian functions\n",
    "def f(t):\n",
    "    return laplacian(t)\n",
    "\n",
    "# distribution studied\n",
    "def random_distrib():\n",
    "    return random.uniform(-1,1)\n",
    "    \n",
    "\n",
    "# computes MSE between 2 adjacent decision thresholds (on one segment)\n",
    "def interval_MSE(x,t1,t2):\n",
    "    return integrate.quad(lambda t: ((t - x)**2) * f(t), t1, t2)[0]\n",
    "\n",
    "# computes mean squared error on R\n",
    "def MSE(t,x):\n",
    "    s = interval_MSE(x[0], -float('Inf'), t[0]) + interval_MSE(x[-1], t[-1], float('Inf'))\n",
    "    for i in range(1,len(x)-1):\n",
    "        s = s + interval_MSE(x[i], t[i-1], t[i])\n",
    "    return s\n",
    "\n",
    "# t1 and t2 are the boundaries of the interval on which the centroid is calculated\n",
    "def centroid(t1,t2):\n",
    "    if integrate.quad(f, t1, t2)[0] == 0 or t1 == t2:\n",
    "        return 0\n",
    "    else:\n",
    "        return integrate.quad(lambda t:t*f(t), t1, t2)[0] / integrate.quad(f, t1, t2)[0]\n",
    "\n",
    "# t is an array containing the initial decision thresholds\n",
    "# x is an array containing the representation levels\n",
    "# error_threshold is the threshold to reach for the algorithm to stop\n",
    "def maxlloyd(t,x,error_threshold):\n",
    "    e = MSE(t,x)\n",
    "    error = [e]\n",
    "    c = 0\n",
    "    while e > error_threshold and c < 300:\n",
    "        c = c+1\n",
    "        if c%2 == 1:\n",
    "            # adjust thresholds\n",
    "            for i in range(len(t)):\n",
    "                t[i] = 0.5 * ( x[i] + x[i+1] )\n",
    "        else:\n",
    "            # adjust levels\n",
    "            x[0] = centroid(-float('Inf'), t[0])\n",
    "            x[-1] = centroid(t[-1], float('Inf'))\n",
    "            for i in range(1,len(x)-1):\n",
    "                x[i] = centroid(t[i-1], t[i])\n",
    "        e = MSE(t,x)\n",
    "        error.append(e)\n",
    "#         print(e)\n",
    "    return x,t,error\n",
    "\n",
    "\n",
    "# Test of maxlloyd function\n",
    "def test_maxlloyd():\n",
    "    t = [-0.5,0,0.5]\n",
    "    x = [-1,0,1,1.5]\n",
    "    x2,t2,error = maxlloyd(t,x,0.01)\n",
    "    print(f\" The final quantization pts:{x2}\")\n",
    "    print(f\" The final decision boundaries: {t2}\")\n",
    "    fig = plt.figure()\n",
    "    ax = fig.add_axes([0,0,1,1])\n",
    "    l1 = ax.plot(error) # solid line with yellow colour and square marker\n",
    "    ax.set_title(\"Distortion for different step sizes\")\n",
    "    ax.set_xlabel('Step size(d)')\n",
    "    ax.set_ylabel('Distortion(MSE)')\n",
    "    plt.show()\n",
    "    print(f\" Value of distortion at optimal step size d: {error[-1]}\")\n",
    "    return x2,t2\n",
    "\n",
    "test_maxlloyd()\n",
    "\n",
    "def estimate(x,t,value):\n",
    "    for i in range(len(t)):\n",
    "        if t[i] > value:\n",
    "            return x[i]\n",
    "    return x[-1]\n",
    "\n",
    "# Plot of average error\n",
    "def plot_avg_error(N):\n",
    "    x,t = test_maxlloyd()\n",
    "    avg_E = []\n",
    "    realizations = []\n",
    "    square_error = []\n",
    "    for i in range(N):\n",
    "        realizations.append(random_distrib())\n",
    "        square_error.append((realizations[-1] - estimate(x,t,realizations[-1]))**2)\n",
    "        avg_E.append(sum(square_error)/len(square_error))\n",
    "    plt.figure(2)\n",
    "    plt.plot(avg_E)\n",
    "    plt.show()\n",
    "\n",
    "# plot_avg_error(20000)"
   ]
  },
  {
   "cell_type": "code",
   "execution_count": null,
   "metadata": {},
   "outputs": [],
   "source": []
  }
 ],
 "metadata": {
  "kernelspec": {
   "display_name": "Python (py37)",
   "language": "python",
   "name": "py37"
  },
  "language_info": {
   "codemirror_mode": {
    "name": "ipython",
    "version": 3
   },
   "file_extension": ".py",
   "mimetype": "text/x-python",
   "name": "python",
   "nbconvert_exporter": "python",
   "pygments_lexer": "ipython3",
   "version": "3.7.7"
  }
 },
 "nbformat": 4,
 "nbformat_minor": 4
}
