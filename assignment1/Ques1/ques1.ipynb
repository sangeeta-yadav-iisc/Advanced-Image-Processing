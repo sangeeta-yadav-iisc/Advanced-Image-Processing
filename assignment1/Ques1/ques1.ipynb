{
 "cells": [
  {
   "cell_type": "code",
   "execution_count": 1,
   "metadata": {},
   "outputs": [],
   "source": [
    "import numpy as np\n",
    "import cv2\n",
    "import pysift\n",
    "from matplotlib import pyplot as plt\n"
   ]
  },
  {
   "cell_type": "code",
   "execution_count": 2,
   "metadata": {},
   "outputs": [],
   "source": [
    "\n",
    "%matplotlib inline\n",
    "img1 = cv2.imread('image1.png', 0)           \n",
    "img2 = cv2.imread('image2.png', 0) "
   ]
  },
  {
   "cell_type": "code",
   "execution_count": 3,
   "metadata": {},
   "outputs": [],
   "source": [
    "cv2.imshow('ab',img1)\n"
   ]
  },
  {
   "cell_type": "code",
   "execution_count": 4,
   "metadata": {},
   "outputs": [],
   "source": [
    "kp1, des1 = pysift.computeKeypointsAndDescriptors(img1)\n",
    "kp2, des2 = pysift.computeKeypointsAndDescriptors(img2)\n"
   ]
  },
  {
   "cell_type": "code",
   "execution_count": 5,
   "metadata": {},
   "outputs": [
    {
     "name": "stdout",
     "output_type": "stream",
     "text": [
      "[<KeyPoint 0x7fb13b16dcf0>, <KeyPoint 0x7fb13b1a26f0>, <KeyPoint 0x7fb13b1a27e0>, <KeyPoint 0x7fb13b1a2510>, <KeyPoint 0x7fb13b1a2450>, <KeyPoint 0x7fb13b1a2870>, <KeyPoint 0x7fb13b1a0540>, <KeyPoint 0x7fb13b1a0360>, <KeyPoint 0x7fb13b1a01e0>, <KeyPoint 0x7fb13b1a0570>, <KeyPoint 0x7fb13b1a0090>, <KeyPoint 0x7fb13b1a01b0>, <KeyPoint 0x7fb13b19fe40>, <KeyPoint 0x7fb13b1a10c0>, <KeyPoint 0x7fb13b1a12a0>, <KeyPoint 0x7fb13b1a13f0>, <KeyPoint 0x7fb13b19f210>, <KeyPoint 0x7fb13b1a2c00>, <KeyPoint 0x7fb13b1a1c60>, <KeyPoint 0x7fb13b1a1ea0>, <KeyPoint 0x7fb13b1a0870>, <KeyPoint 0x7fb13b19f360>, <KeyPoint 0x7fb13b1a2d80>, <KeyPoint 0x7fb13b19f330>, <KeyPoint 0x7fb13b19f9c0>, <KeyPoint 0x7fb13b1a1390>, <KeyPoint 0x7fb13b1a0420>, <KeyPoint 0x7fb13b16dc90>, <KeyPoint 0x7fb13b1a25d0>, <KeyPoint 0x7fb13b16dd20>, <KeyPoint 0x7fb13b1a13c0>, <KeyPoint 0x7fb13b1a2540>, <KeyPoint 0x7fb13b1a0210>, <KeyPoint 0x7fb13b1a0480>, <KeyPoint 0x7fb13b1a2780>, <KeyPoint 0x7fb13b1a1e10>, <KeyPoint 0x7fb13b1a2030>, <KeyPoint 0x7fb13b1a2cf0>, <KeyPoint 0x7fb13b19f660>, <KeyPoint 0x7fb13b19fba0>, <KeyPoint 0x7fb13b1a16f0>, <KeyPoint 0x7fb13b1a0630>, <KeyPoint 0x7fb13b1a08a0>, <KeyPoint 0x7fb13b1a0300>, <KeyPoint 0x7fb13b1a09c0>, <KeyPoint 0x7fb13b1a04b0>, <KeyPoint 0x7fb13b1a0840>, <KeyPoint 0x7fb13b1a20f0>, <KeyPoint 0x7fb13b1a09f0>, <KeyPoint 0x7fb13b1a21b0>, <KeyPoint 0x7fb13b1a2420>, <KeyPoint 0x7fb13b1a15a0>, <KeyPoint 0x7fb13b1a1990>, <KeyPoint 0x7fb13b1a1f30>, <KeyPoint 0x7fb13b19f8d0>, <KeyPoint 0x7fb13b1a2f00>, <KeyPoint 0x7fb13b1a17b0>, <KeyPoint 0x7fb13b19fbd0>, <KeyPoint 0x7fb13b16d8a0>, <KeyPoint 0x7fb13b1a1c30>, <KeyPoint 0x7fb13b1a0120>, <KeyPoint 0x7fb13b1a1ed0>, <KeyPoint 0x7fb13b1a1f90>, <KeyPoint 0x7fb13b1a29f0>, <KeyPoint 0x7fb13b19fc00>, <KeyPoint 0x7fb13b19fa20>, <KeyPoint 0x7fb13b1a2d50>, <KeyPoint 0x7fb13b19f600>, <KeyPoint 0x7fb13b19f840>, <KeyPoint 0x7fb13b1a2b40>, <KeyPoint 0x7fb13b1a2e40>, <KeyPoint 0x7fb13b1a0030>, <KeyPoint 0x7fb13b1a0270>, <KeyPoint 0x7fb13b19fae0>, <KeyPoint 0x7fb13b1a0a50>, <KeyPoint 0x7fb13b19f7b0>, <KeyPoint 0x7fb13b1a2840>, <KeyPoint 0x7fb13b1a1fc0>, <KeyPoint 0x7fb13b1a2810>, <KeyPoint 0x7fb13b1a1f60>, <KeyPoint 0x7fb13b1a27b0>, <KeyPoint 0x7fb13b19f750>, <KeyPoint 0x7fb13b1a1660>, <KeyPoint 0x7fb13b1a00c0>, <KeyPoint 0x7fb13b1a26c0>, <KeyPoint 0x7fb13b1a0810>, <KeyPoint 0x7fb13b1a04e0>, <KeyPoint 0x7fb13b1a2ab0>, <KeyPoint 0x7fb13b1a2de0>, <KeyPoint 0x7fb13b16d7b0>, <KeyPoint 0x7fb13b19ff30>, <KeyPoint 0x7fb13b19f6f0>, <KeyPoint 0x7fb13b1a1810>, <KeyPoint 0x7fb13b1a2390>, <KeyPoint 0x7fb13b1a25a0>, <KeyPoint 0x7fb13b16d120>, <KeyPoint 0x7fb13b19f450>, <KeyPoint 0x7fb13b1a07e0>, <KeyPoint 0x7fb13b19f930>, <KeyPoint 0x7fb13b1a2570>, <KeyPoint 0x7fb13b1a2120>, <KeyPoint 0x7fb13b19f3f0>, <KeyPoint 0x7fb13b1a11e0>, <KeyPoint 0x7fb13b16d630>, <KeyPoint 0x7fb13b16d360>, <KeyPoint 0x7fb13b1a1cc0>, <KeyPoint 0x7fb13b19f810>, <KeyPoint 0x7fb13b16de70>, <KeyPoint 0x7fb13b1a2360>, <KeyPoint 0x7fb13b16d5d0>, <KeyPoint 0x7fb13b16d570>, <KeyPoint 0x7fb13b16d660>, <KeyPoint 0x7fb13b1a00f0>, <KeyPoint 0x7fb13b16ddb0>, <KeyPoint 0x7fb13b1a0450>, <KeyPoint 0x7fb13b1a1d50>, <KeyPoint 0x7fb13b19f4e0>, <KeyPoint 0x7fb13b1a2660>, <KeyPoint 0x7fb13b19fb40>, <KeyPoint 0x7fb13b16d480>, <KeyPoint 0x7fb13b16d420>, <KeyPoint 0x7fb13b1a2990>, <KeyPoint 0x7fb13b1a2750>, <KeyPoint 0x7fb13b1a2630>, <KeyPoint 0x7fb13b1a1480>, <KeyPoint 0x7fb13b1a0390>, <KeyPoint 0x7fb13b1a11b0>, <KeyPoint 0x7fb13b1a1900>, <KeyPoint 0x7fb13b1a1d20>, <KeyPoint 0x7fb13b1a1540>, <KeyPoint 0x7fb13b16d450>, <KeyPoint 0x7fb13b16d4e0>, <KeyPoint 0x7fb13b19f7e0>, <KeyPoint 0x7fb13b1a1f00>, <KeyPoint 0x7fb13b1a1cf0>, <KeyPoint 0x7fb13b16d840>, <KeyPoint 0x7fb13b16dae0>, <KeyPoint 0x7fb13b16dd80>, <KeyPoint 0x7fb13b19f5a0>, <KeyPoint 0x7fb13b19fd20>, <KeyPoint 0x7fb13b16d390>, <KeyPoint 0x7fb13b16d6c0>, <KeyPoint 0x7fb13b1a2e10>, <KeyPoint 0x7fb13b1a02d0>, <KeyPoint 0x7fb13b19f4b0>, <KeyPoint 0x7fb13b16dba0>, <KeyPoint 0x7fb13b1a14b0>, <KeyPoint 0x7fb13b19f0f0>, <KeyPoint 0x7fb13b19fb10>, <KeyPoint 0x7fb13b1a2ae0>, <KeyPoint 0x7fb13b1a1780>, <KeyPoint 0x7fb13b1a1930>, <KeyPoint 0x7fb13b1a17e0>, <KeyPoint 0x7fb13b1a2180>, <KeyPoint 0x7fb13b16d750>, <KeyPoint 0x7fb13b1a0660>, <KeyPoint 0x7fb13b1a1a50>, <KeyPoint 0x7fb13b16d5a0>, <KeyPoint 0x7fb13b16d510>, <KeyPoint 0x7fb13b19f030>, <KeyPoint 0x7fb13b16df00>, <KeyPoint 0x7fb13b445a20>, <KeyPoint 0x7fb13b19fcc0>, <KeyPoint 0x7fb13b445d50>, <KeyPoint 0x7fb13b1a0330>, <KeyPoint 0x7fb13b1a1870>, <KeyPoint 0x7fb13b1a1360>, <KeyPoint 0x7fb13b19fcf0>, <KeyPoint 0x7fb13b1a2ea0>, <KeyPoint 0x7fb13b19fea0>, <KeyPoint 0x7fb13b1a24e0>, <KeyPoint 0x7fb13b1a1ae0>, <KeyPoint 0x7fb13b1a2960>, <KeyPoint 0x7fb13b16d690>, <KeyPoint 0x7fb13b16d3f0>, <KeyPoint 0x7fb13b19f3c0>, <KeyPoint 0x7fb13b1a1a20>, <KeyPoint 0x7fb13b19fdb0>, <KeyPoint 0x7fb13b1a1150>, <KeyPoint 0x7fb13b16d900>, <KeyPoint 0x7fb13b19f090>, <KeyPoint 0x7fb13b19f300>, <KeyPoint 0x7fb13b1a18a0>, <KeyPoint 0x7fb13b16d330>, <KeyPoint 0x7fb13b19f420>, <KeyPoint 0x7fb13b19f570>, <KeyPoint 0x7fb13b19ff00>, <KeyPoint 0x7fb13b1a12d0>, <KeyPoint 0x7fb13b1a2330>, <KeyPoint 0x7fb13b1a20c0>, <KeyPoint 0x7fb13b1a23c0>, <KeyPoint 0x7fb13b16da50>, <KeyPoint 0x7fb13b16d8d0>, <KeyPoint 0x7fb13b16db40>, <KeyPoint 0x7fb13b19ff90>, <KeyPoint 0x7fb13b1a1b70>, <KeyPoint 0x7fb13b1a19f0>, <KeyPoint 0x7fb13b1a1060>, <KeyPoint 0x7fb13b1a1c90>, <KeyPoint 0x7fb13b16d960>, <KeyPoint 0x7fb13b19fc60>, <KeyPoint 0x7fb13b16da20>, <KeyPoint 0x7fb13b1a05a0>, <KeyPoint 0x7fb13b1a0690>, <KeyPoint 0x7fb13b1a0a20>, <KeyPoint 0x7fb13b1a0060>, <KeyPoint 0x7fb13b1a06f0>, <KeyPoint 0x7fb13b1a0750>, <KeyPoint 0x7fb13b19ff60>, <KeyPoint 0x7fb13b16d540>, <KeyPoint 0x7fb13b16dea0>, <KeyPoint 0x7fb13b16df30>, <KeyPoint 0x7fb13b16d4b0>, <KeyPoint 0x7fb13b16d2d0>, <KeyPoint 0x7fb13b16d210>, <KeyPoint 0x7fb13b19f390>, <KeyPoint 0x7fb13b19fc90>, <KeyPoint 0x7fb13b19fe10>, <KeyPoint 0x7fb13b19fe70>, <KeyPoint 0x7fb13b1a1c00>, <KeyPoint 0x7fb13b1a19c0>, <KeyPoint 0x7fb13b1a1960>, <KeyPoint 0x7fb13b1a1bd0>, <KeyPoint 0x7fb13b1a2300>, <KeyPoint 0x7fb13b1a0ab0>, <KeyPoint 0x7fb13b1a2f90>, <KeyPoint 0x7fb13b19fd50>, <KeyPoint 0x7fb13b16dab0>, <KeyPoint 0x7fb13b1a05d0>, <KeyPoint 0x7fb13b1a0150>, <KeyPoint 0x7fb13b1a29c0>, <KeyPoint 0x7fb13b1a2a20>, <KeyPoint 0x7fb13b16d600>, <KeyPoint 0x7fb13b19fab0>, <KeyPoint 0x7fb13b19ffc0>, <KeyPoint 0x7fb13b19fd80>, <KeyPoint 0x7fb13b16d240>, <KeyPoint 0x7fb13b1a2d20>, <KeyPoint 0x7fb13b1a2f30>, <KeyPoint 0x7fb13b16db70>, <KeyPoint 0x7fb13b1a1420>, <KeyPoint 0x7fb13b1a1570>, <KeyPoint 0x7fb13b1a03c0>, <KeyPoint 0x7fb13b1a2090>, <KeyPoint 0x7fb13b1a2b10>, <KeyPoint 0x7fb13b19fde0>, <KeyPoint 0x7fb13b1a2a50>, <KeyPoint 0x7fb13b1a2a80>, <KeyPoint 0x7fb13b1a1ba0>, <KeyPoint 0x7fb13b1a1240>, <KeyPoint 0x7fb13b1a2ed0>, <KeyPoint 0x7fb13b1a22d0>, <KeyPoint 0x7fb13b16d720>, <KeyPoint 0x7fb13b1a1120>, <KeyPoint 0x7fb13b16d3c0>, <KeyPoint 0x7fb13b16d930>, <KeyPoint 0x7fb13b19f270>, <KeyPoint 0x7fb13b16d780>, <KeyPoint 0x7fb13b1a1840>, <KeyPoint 0x7fb13b1a2270>, <KeyPoint 0x7fb13b1a2060>, <KeyPoint 0x7fb13b1a1450>, <KeyPoint 0x7fb13b19fa80>, <KeyPoint 0x7fb13b19fb70>, <KeyPoint 0x7fb13b1a22a0>, <KeyPoint 0x7fb13b19f990>, <KeyPoint 0x7fb13b16d270>, <KeyPoint 0x7fb13b19f900>, <KeyPoint 0x7fb13b16d2a0>, <KeyPoint 0x7fb13b16d7e0>, <KeyPoint 0x7fb13b1a2fc0>, <KeyPoint 0x7fb13b1a1330>, <KeyPoint 0x7fb13b1a28d0>, <KeyPoint 0x7fb13b1a1ab0>, <KeyPoint 0x7fb13b16dde0>, <KeyPoint 0x7fb13b1a21e0>, <KeyPoint 0x7fb13b1a2210>, <KeyPoint 0x7fb13b1a2ba0>, <KeyPoint 0x7fb13b16dfc0>, <KeyPoint 0x7fb13b16d6f0>, <KeyPoint 0x7fb13b16da80>, <KeyPoint 0x7fb13b16df90>, <KeyPoint 0x7fb13b16db10>, <KeyPoint 0x7fb13b16ded0>, <KeyPoint 0x7fb13b19f480>, <KeyPoint 0x7fb13b1a07b0>, <KeyPoint 0x7fb13b1a0900>, <KeyPoint 0x7fb13b1a2150>, <KeyPoint 0x7fb13b1a2600>, <KeyPoint 0x7fb13b16dc30>, <KeyPoint 0x7fb13b16dd50>, <KeyPoint 0x7fb13b16de10>, <KeyPoint 0x7fb13b19f1b0>, <KeyPoint 0x7fb13b16dcc0>, <KeyPoint 0x7fb13b19f2a0>, <KeyPoint 0x7fb13b19f540>, <KeyPoint 0x7fb13b1a2cc0>, <KeyPoint 0x7fb13b1a2c90>, <KeyPoint 0x7fb13b19f0c0>, <KeyPoint 0x7fb13b19f5d0>, <KeyPoint 0x7fb13b16d300>, <KeyPoint 0x7fb13b16de40>, <KeyPoint 0x7fb13b19f150>, <KeyPoint 0x7fb13b1a1d80>, <KeyPoint 0x7fb13b1a0ba0>, <KeyPoint 0x7fb13b1a2480>, <KeyPoint 0x7fb13b1a1720>, <KeyPoint 0x7fb13b16d030>, <KeyPoint 0x7fb13b16d870>, <KeyPoint 0x7fb13b19f240>, <KeyPoint 0x7fb13b1a1630>, <KeyPoint 0x7fb13b1a14e0>, <KeyPoint 0x7fb13b19f690>, <KeyPoint 0x7fb13b1a1510>, <KeyPoint 0x7fb13b1a2240>, <KeyPoint 0x7fb13b1a2690>, <KeyPoint 0x7fb13b16dc60>, <KeyPoint 0x7fb13b1a10f0>, <KeyPoint 0x7fb13b1a1b40>, <KeyPoint 0x7fb13b1a23f0>, <KeyPoint 0x7fb13b1a2720>, <KeyPoint 0x7fb13b19f1e0>, <KeyPoint 0x7fb13b19f8a0>, <KeyPoint 0x7fb13b1a1e70>, <KeyPoint 0x7fb13b1a0720>, <KeyPoint 0x7fb13b1a0780>, <KeyPoint 0x7fb13b16d9c0>, <KeyPoint 0x7fb13b19f060>, <KeyPoint 0x7fb13b1a1a80>, <KeyPoint 0x7fb13b19f2d0>, <KeyPoint 0x7fb13b1a18d0>, <KeyPoint 0x7fb13b1a24b0>, <KeyPoint 0x7fb13b16d9f0>, <KeyPoint 0x7fb13b1a2e70>, <KeyPoint 0x7fb13b1a16c0>, <KeyPoint 0x7fb13b1a0960>, <KeyPoint 0x7fb13b19fed0>, <KeyPoint 0x7fb13b19fc30>, <KeyPoint 0x7fb13b19f960>, <KeyPoint 0x7fb13b1a0180>, <KeyPoint 0x7fb13b1a28a0>, <KeyPoint 0x7fb13b19f720>, <KeyPoint 0x7fb13b1a1030>, <KeyPoint 0x7fb13b1a1750>, <KeyPoint 0x7fb13b1a0b10>, <KeyPoint 0x7fb13b1a0b70>, <KeyPoint 0x7fb13b1a03f0>, <KeyPoint 0x7fb13b19f120>, <KeyPoint 0x7fb13b1a1300>, <KeyPoint 0x7fb13b1a1180>, <KeyPoint 0x7fb13b1a2900>, <KeyPoint 0x7fb13b1a2bd0>, <KeyPoint 0x7fb13b16d090>, <KeyPoint 0x7fb13b19f780>, <KeyPoint 0x7fb13b1a2db0>, <KeyPoint 0x7fb13b1a0240>, <KeyPoint 0x7fb13b1a0b40>, <KeyPoint 0x7fb13b16dbd0>, <KeyPoint 0x7fb13b1a1b10>, <KeyPoint 0x7fb13b19f180>, <KeyPoint 0x7fb13b1a1690>, <KeyPoint 0x7fb13b1a0ae0>, <KeyPoint 0x7fb13b1a06c0>, <KeyPoint 0x7fb13b1a2930>, <KeyPoint 0x7fb13b1a1210>, <KeyPoint 0x7fb13b1a2c60>, <KeyPoint 0x7fb13b16dc00>, <KeyPoint 0x7fb13b19f630>, <KeyPoint 0x7fb13b19f510>, <KeyPoint 0x7fb13b1a1600>, <KeyPoint 0x7fb13b16d990>, <KeyPoint 0x7fb13b16d810>, <KeyPoint 0x7fb13b16df60>, <KeyPoint 0x7fb13b1a1de0>, <KeyPoint 0x7fb13b1a0990>, <KeyPoint 0x7fb13b1a02a0>, <KeyPoint 0x7fb13b1a0600>, <KeyPoint 0x7fb13b1a0510>, <KeyPoint 0x7fb13b1a15d0>, <KeyPoint 0x7fb13b19f9f0>, <KeyPoint 0x7fb13b19f870>, <KeyPoint 0x7fb13b19fa50>, <KeyPoint 0x7fb13b1a2f60>, <KeyPoint 0x7fb13b1a2c30>, <KeyPoint 0x7fb13b1a2b70>, <KeyPoint 0x7fb13b1a1db0>, <KeyPoint 0x7fb13b19f6c0>]\n",
      "[<KeyPoint 0x7fb13b1a96f0>, <KeyPoint 0x7fb13b1a6420>, <KeyPoint 0x7fb13b1a6450>, <KeyPoint 0x7fb13b1a7ab0>, <KeyPoint 0x7fb13b1a7c30>, <KeyPoint 0x7fb13b1a96c0>, <KeyPoint 0x7fb13b1a9cc0>, <KeyPoint 0x7fb13b1a5a50>, <KeyPoint 0x7fb13b1a5ae0>, <KeyPoint 0x7fb13b1a8d50>, <KeyPoint 0x7fb13b1a8c00>, <KeyPoint 0x7fb13b1a79c0>, <KeyPoint 0x7fb13b1a7ba0>, <KeyPoint 0x7fb13b1a77b0>, <KeyPoint 0x7fb13b1a8b10>, <KeyPoint 0x7fb13b1a87b0>, <KeyPoint 0x7fb13b1a8c30>, <KeyPoint 0x7fb13b1a80f0>, <KeyPoint 0x7fb13b1a9fc0>, <KeyPoint 0x7fb13b1a9cf0>, <KeyPoint 0x7fb13b1a9de0>, <KeyPoint 0x7fb13b1a9c60>, <KeyPoint 0x7fb13b1a9600>, <KeyPoint 0x7fb13b1a9bd0>, <KeyPoint 0x7fb13b1a5b40>, <KeyPoint 0x7fb13b1a9120>, <KeyPoint 0x7fb13b1a7f30>, <KeyPoint 0x7fb13b1a8300>, <KeyPoint 0x7fb13b1a76c0>, <KeyPoint 0x7fb13b1a74b0>, <KeyPoint 0x7fb13b1a9f30>, <KeyPoint 0x7fb13b1a9e40>, <KeyPoint 0x7fb13b1a9a20>, <KeyPoint 0x7fb13b1a9d20>, <KeyPoint 0x7fb13b1a91b0>, <KeyPoint 0x7fb13b1a9090>, <KeyPoint 0x7fb13b1a7840>, <KeyPoint 0x7fb13b1a8c60>, <KeyPoint 0x7fb13b1a8e10>, <KeyPoint 0x7fb13b1a6810>, <KeyPoint 0x7fb13b1a4660>, <KeyPoint 0x7fb13b1a8180>, <KeyPoint 0x7fb13b1a8330>, <KeyPoint 0x7fb13b1a67b0>, <KeyPoint 0x7fb13b1a8f60>, <KeyPoint 0x7fb134319480>, <KeyPoint 0x7fb1343195d0>, <KeyPoint 0x7fb13b1a4270>, <KeyPoint 0x7fb13b1a5c90>, <KeyPoint 0x7fb13b1a7090>, <KeyPoint 0x7fb13b1a7870>, <KeyPoint 0x7fb13b1a4180>, <KeyPoint 0x7fb13b1a8d80>, <KeyPoint 0x7fb13b1a8e70>, <KeyPoint 0x7fb13b1a5870>, <KeyPoint 0x7fb134319cf0>, <KeyPoint 0x7fb13b1a4300>, <KeyPoint 0x7fb13b1a75d0>, <KeyPoint 0x7fb13b1a5ba0>, <KeyPoint 0x7fb13b1a42a0>, <KeyPoint 0x7fb13b1a4330>, <KeyPoint 0x7fb13b1a5990>, <KeyPoint 0x7fb13b1a4570>, <KeyPoint 0x7fb13b1a8cf0>, <KeyPoint 0x7fb13b1a9d80>, <KeyPoint 0x7fb13b1a8120>, <KeyPoint 0x7fb13b1a9db0>, <KeyPoint 0x7fb13b1a7660>, <KeyPoint 0x7fb13b1a77e0>, <KeyPoint 0x7fb13b1a9030>, <KeyPoint 0x7fb13b1a92a0>, <KeyPoint 0x7fb13b1a7cc0>, <KeyPoint 0x7fb13b1a7e10>, <KeyPoint 0x7fb13b1a47e0>, <KeyPoint 0x7fb13b1a7960>, <KeyPoint 0x7fb13b1a7ae0>, <KeyPoint 0x7fb13b1a6930>, <KeyPoint 0x7fb13b1a6cf0>, <KeyPoint 0x7fb13b1a7f90>, <KeyPoint 0x7fb13b1a45d0>, <KeyPoint 0x7fb13b1a74e0>, <KeyPoint 0x7fb13b1a5540>, <KeyPoint 0x7fb13b1a5600>, <KeyPoint 0x7fb13b1a9ab0>, <KeyPoint 0x7fb13b1a8a80>, <KeyPoint 0x7fb13b1a8db0>, <KeyPoint 0x7fb13b1a5180>, <KeyPoint 0x7fb13b1a82a0>, <KeyPoint 0x7fb13b1a47b0>, <KeyPoint 0x7fb13b1a4a50>, <KeyPoint 0x7fb13b1a8840>, <KeyPoint 0x7fb13b1a8f00>, <KeyPoint 0x7fb13b1a7060>, <KeyPoint 0x7fb13b1a7150>, <KeyPoint 0x7fb13b1a9930>, <KeyPoint 0x7fb13b1a9a50>, <KeyPoint 0x7fb13b1a6c00>, <KeyPoint 0x7fb13b1a8f90>, <KeyPoint 0x7fb13b1a70f0>, <KeyPoint 0x7fb13b1a7210>, <KeyPoint 0x7fb13b1a08d0>, <KeyPoint 0x7fb13b1a0fc0>, <KeyPoint 0x7fb13b1a6d20>, <KeyPoint 0x7fb13b1a6e10>, <KeyPoint 0x7fb13b1a0f00>, <KeyPoint 0x7fb13b1a7420>, <KeyPoint 0x7fb13b1a7a80>, <KeyPoint 0x7fb13b1a6e40>, <KeyPoint 0x7fb13b1a8210>, <KeyPoint 0x7fb13b1a7a20>, <KeyPoint 0x7fb13b1a5660>, <KeyPoint 0x7fb13b1a61e0>, <KeyPoint 0x7fb13b1a4f00>, <KeyPoint 0x7fb13b1a7240>, <KeyPoint 0x7fb13b1a7630>, <KeyPoint 0x7fb13b1a7900>, <KeyPoint 0x7fb13b1a90c0>, <KeyPoint 0x7fb13b1a9450>, <KeyPoint 0x7fb13b1a7e70>, <KeyPoint 0x7fb13b1a7ea0>, <KeyPoint 0x7fb13b1a9ed0>, <KeyPoint 0x7fb13b1a90f0>, <KeyPoint 0x7fb13b1a9240>, <KeyPoint 0x7fb13b1a9270>, <KeyPoint 0x7fb13b1a93c0>, <KeyPoint 0x7fb13b1a5060>, <KeyPoint 0x7fb13b1a52a0>, <KeyPoint 0x7fb13b1a9c90>, <KeyPoint 0x7fb13b1a8240>, <KeyPoint 0x7fb134319cc0>, <KeyPoint 0x7fb13b1a45a0>, <KeyPoint 0x7fb13b1a7f60>, <KeyPoint 0x7fb13b1a4060>, <KeyPoint 0x7fb13b1a46c0>, <KeyPoint 0x7fb13b1a98a0>, <KeyPoint 0x7fb13b1a6300>, <KeyPoint 0x7fb13b1a9a80>, <KeyPoint 0x7fb13b1a9180>, <KeyPoint 0x7fb13b1a7180>, <KeyPoint 0x7fb13b1a73f0>, <KeyPoint 0x7fb13b1a9b40>, <KeyPoint 0x7fb13b1a5120>, <KeyPoint 0x7fb13b1a5720>, <KeyPoint 0x7fb134319de0>, <KeyPoint 0x7fb13b1a9060>, <KeyPoint 0x7fb13b1a7de0>, <KeyPoint 0x7fb13b1a70c0>, <KeyPoint 0x7fb13b1a7360>, <KeyPoint 0x7fb13b1a9150>, <KeyPoint 0x7fb13b1a5450>, <KeyPoint 0x7fb13b1a6cc0>, <KeyPoint 0x7fb13b1a91e0>, <KeyPoint 0x7fb13b1a9300>, <KeyPoint 0x7fb13b1a9870>, <KeyPoint 0x7fb13b1a99c0>, <KeyPoint 0x7fb13b1a99f0>, <KeyPoint 0x7fb13b1a89f0>, <KeyPoint 0x7fb13b1a8ab0>, <KeyPoint 0x7fb13b1a4a20>, <KeyPoint 0x7fb13b1a79f0>, <KeyPoint 0x7fb13b1a97b0>, <KeyPoint 0x7fb13b1a9990>, <KeyPoint 0x7fb13b1a98d0>, <KeyPoint 0x7fb13b1a8630>, <KeyPoint 0x7fb13b1a8a50>, <KeyPoint 0x7fb1343197b0>, <KeyPoint 0x7fb13b1a6780>, <KeyPoint 0x7fb13b1a50c0>, <KeyPoint 0x7fb13b1a5c60>, <KeyPoint 0x7fb13b1a0c90>, <KeyPoint 0x7fb13b1a0f90>, <KeyPoint 0x7fb13b1a9e70>, <KeyPoint 0x7fb134319630>, <KeyPoint 0x7fb13b1a9390>, <KeyPoint 0x7fb134319d20>, <KeyPoint 0x7fb13b1a7b40>, <KeyPoint 0x7fb134319db0>, <KeyPoint 0x7fb13b1a71e0>, <KeyPoint 0x7fb13b1a66f0>, <KeyPoint 0x7fb13b1a6690>, <KeyPoint 0x7fb13b1a8150>, <KeyPoint 0x7fb13b1a40f0>, <KeyPoint 0x7fb13b1a4420>, <KeyPoint 0x7fb13b1a6870>, <KeyPoint 0x7fb13b1a6bd0>, <KeyPoint 0x7fb13b1a81b0>, <KeyPoint 0x7fb134319720>, <KeyPoint 0x7fb1343197e0>, <KeyPoint 0x7fb13b1a5de0>, <KeyPoint 0x7fb13b1a7e40>, <KeyPoint 0x7fb13b1a7d50>, <KeyPoint 0x7fb13b1a44e0>, <KeyPoint 0x7fb13b1a4030>, <KeyPoint 0x7fb13b1a7f00>, <KeyPoint 0x7fb13b1a7b10>, <KeyPoint 0x7fb13b1a5900>, <KeyPoint 0x7fb13b1a5930>, <KeyPoint 0x7fb13b1a9c30>, <KeyPoint 0x7fb1343195a0>, <KeyPoint 0x7fb13b1a6d80>, <KeyPoint 0x7fb13b1a6c30>, <KeyPoint 0x7fb134319c90>, <KeyPoint 0x7fb134319e10>, <KeyPoint 0x7fb13b1a5f90>, <KeyPoint 0x7fb134319750>, <KeyPoint 0x7fb134319690>, <KeyPoint 0x7fb13b1a8ae0>, <KeyPoint 0x7fb13b1a8bd0>, <KeyPoint 0x7fb134319120>, <KeyPoint 0x7fb13b1a9f00>, <KeyPoint 0x7fb13b1a72d0>, <KeyPoint 0x7fb13b1a68d0>, <KeyPoint 0x7fb13b1a7300>, <KeyPoint 0x7fb13b1a41b0>, <KeyPoint 0x7fb13b1a7810>, <KeyPoint 0x7fb13b1a7db0>, <KeyPoint 0x7fb13b1a5480>, <KeyPoint 0x7fb13b1a5780>, <KeyPoint 0x7fb13b1a4120>, <KeyPoint 0x7fb13b1a4780>, <KeyPoint 0x7fb134319c00>, <KeyPoint 0x7fb134319e40>, <KeyPoint 0x7fb13b1a5cf0>, <KeyPoint 0x7fb13b1a88a0>, <KeyPoint 0x7fb13b1a5db0>, <KeyPoint 0x7fb13b1a7c60>, <KeyPoint 0x7fb13b1a78d0>, <KeyPoint 0x7fb13b1a7450>, <KeyPoint 0x7fb13b1a9480>, <KeyPoint 0x7fb13b1a9b70>, <KeyPoint 0x7fb13b1a5f60>, <KeyPoint 0x7fb13b1a5d20>, <KeyPoint 0x7fb13b1a7bd0>, <KeyPoint 0x7fb13b1a7d20>, <KeyPoint 0x7fb13b1a4930>, <KeyPoint 0x7fb13b1a41e0>, <KeyPoint 0x7fb13b1a4450>, <KeyPoint 0x7fb13b1a4600>, <KeyPoint 0x7fb13b1a57b0>, <KeyPoint 0x7fb13b1a57e0>, <KeyPoint 0x7fb13b1a5090>, <KeyPoint 0x7fb13b1a54b0>, <KeyPoint 0x7fb13b1a4b10>, <KeyPoint 0x7fb13b1a7600>, <KeyPoint 0x7fb13b1a8b70>, <KeyPoint 0x7fb13b1a7270>, <KeyPoint 0x7fb13b1a7930>, <KeyPoint 0x7fb13b1a78a0>, <KeyPoint 0x7fb13b1a9c00>, <KeyPoint 0x7fb13b1a4630>, <KeyPoint 0x7fb13b1a1e40>, <KeyPoint 0x7fb13b1a60f0>, <KeyPoint 0x7fb13b1a4c60>, <KeyPoint 0x7fb13b1a0e70>, <KeyPoint 0x7fb1343192a0>, <KeyPoint 0x7fb134319390>, <KeyPoint 0x7fb1343191e0>, <KeyPoint 0x7fb13b1a4090>, <KeyPoint 0x7fb13b1a40c0>, <KeyPoint 0x7fb13b1a65d0>, <KeyPoint 0x7fb13b1a9ea0>, <KeyPoint 0x7fb13b1a72a0>, <KeyPoint 0x7fb13b1a5b10>, <KeyPoint 0x7fb13b1a5f30>, <KeyPoint 0x7fb13b1a6e70>, <KeyPoint 0x7fb13b1a64e0>, <KeyPoint 0x7fb13b1a4c90>, <KeyPoint 0x7fb13b1a4d20>, <KeyPoint 0x7fb13b1a9360>, <KeyPoint 0x7fb13b1a8870>, <KeyPoint 0x7fb13b1a0d50>, <KeyPoint 0x7fb13b1a0f60>, <KeyPoint 0x7fb134319360>, <KeyPoint 0x7fb13b1a8540>, <KeyPoint 0x7fb13b1a5840>, <KeyPoint 0x7fb134319840>, <KeyPoint 0x7fb13b1a9750>, <KeyPoint 0x7fb13b1a5810>, <KeyPoint 0x7fb13b1a4540>, <KeyPoint 0x7fb13b1a4840>, <KeyPoint 0x7fb13b1a82d0>, <KeyPoint 0x7fb13b1a95a0>, <KeyPoint 0x7fb13b1a8fc0>, <KeyPoint 0x7fb13b1a53f0>, <KeyPoint 0x7fb13b1a5360>, <KeyPoint 0x7fb134319990>, <KeyPoint 0x7fb134319a80>, <KeyPoint 0x7fb13b1a6480>, <KeyPoint 0x7fb13b1a6600>, <KeyPoint 0x7fb13b1a8930>, <KeyPoint 0x7fb13b1a89c0>, <KeyPoint 0x7fb134319540>, <KeyPoint 0x7fb134319c60>, <KeyPoint 0x7fb13b1a4ba0>, <KeyPoint 0x7fb13b1a6b10>, <KeyPoint 0x7fb13b1a0bd0>, <KeyPoint 0x7fb13b1a0f30>, <KeyPoint 0x7fb13b1a4f30>, <KeyPoint 0x7fb13b1a9e10>, <KeyPoint 0x7fb13b1a94e0>, <KeyPoint 0x7fb13b1a8e40>, <KeyPoint 0x7fb13b1a86c0>, <KeyPoint 0x7fb1343192d0>, <KeyPoint 0x7fb13b1a4390>, <KeyPoint 0x7fb13b1a4b40>, <KeyPoint 0x7fb134319330>, <KeyPoint 0x7fb13b1a4510>, <KeyPoint 0x7fb13b1a4960>, <KeyPoint 0x7fb13b1a9ba0>, <KeyPoint 0x7fb13b1a0cc0>, <KeyPoint 0x7fb13b1a4ab0>, <KeyPoint 0x7fb13b1a6f00>, <KeyPoint 0x7fb13b1a6c60>, <KeyPoint 0x7fb13b1a68a0>, <KeyPoint 0x7fb13b1a4720>, <KeyPoint 0x7fb1343190f0>, <KeyPoint 0x7fb13b1a9f90>, <KeyPoint 0x7fb13b1a56c0>, <KeyPoint 0x7fb13b1a5a80>, <KeyPoint 0x7fb13b1a5240>, <KeyPoint 0x7fb13b1a9ae0>, <KeyPoint 0x7fb13b1a7330>, <KeyPoint 0x7fb13b1a6720>, <KeyPoint 0x7fb13b1a8060>, <KeyPoint 0x7fb13b1a84e0>, <KeyPoint 0x7fb13b1a5fc0>, <KeyPoint 0x7fb13b1a5ea0>, <KeyPoint 0x7fb134319240>, <KeyPoint 0x7fb13b1a6de0>, <KeyPoint 0x7fb13b1a73c0>, <KeyPoint 0x7fb13b1a59f0>, <KeyPoint 0x7fb13b1a5a20>, <KeyPoint 0x7fb13b1a5330>, <KeyPoint 0x7fb13b1a7690>, <KeyPoint 0x7fb13b1a6270>, <KeyPoint 0x7fb1343190c0>, <KeyPoint 0x7fb134319510>, <KeyPoint 0x7fb13b1a6510>, <KeyPoint 0x7fb13b1a6d50>, <KeyPoint 0x7fb13b1a4f60>, <KeyPoint 0x7fb13b1a6ae0>, <KeyPoint 0x7fb13b1a8b40>, <KeyPoint 0x7fb13b1a6030>, <KeyPoint 0x7fb13b1a69c0>, <KeyPoint 0x7fb13b1a8d20>, <KeyPoint 0x7fb13b1a56f0>, <KeyPoint 0x7fb134319600>, <KeyPoint 0x7fb1343198d0>, <KeyPoint 0x7fb13b1a4480>, <KeyPoint 0x7fb13b1a5c00>, <KeyPoint 0x7fb13b1a8ed0>, <KeyPoint 0x7fb134319810>, <KeyPoint 0x7fb13b1a5150>, <KeyPoint 0x7fb13b1a9810>, <KeyPoint 0x7fb13b1a6b40>, <KeyPoint 0x7fb13b1a8f30>, <KeyPoint 0x7fb13b1a4a80>, <KeyPoint 0x7fb13b1a4d80>, <KeyPoint 0x7fb13b1a4e10>, <KeyPoint 0x7fb13b1a9570>, <KeyPoint 0x7fb13b1a67e0>, <KeyPoint 0x7fb13b1a66c0>, <KeyPoint 0x7fb13b1a8510>, <KeyPoint 0x7fb1343191b0>, <KeyPoint 0x7fb13b1a85a0>, <KeyPoint 0x7fb13b1a7750>, <KeyPoint 0x7fb13b1a7990>, <KeyPoint 0x7fb13b1a55d0>, <KeyPoint 0x7fb134319960>, <KeyPoint 0x7fb134319d50>, <KeyPoint 0x7fb13b1a6570>, <KeyPoint 0x7fb13b1a6ea0>, <KeyPoint 0x7fb13b1a4870>, <KeyPoint 0x7fb13b1a0d80>, <KeyPoint 0x7fb13b1a0c30>, <KeyPoint 0x7fb13b1a4150>, <KeyPoint 0x7fb1343199f0>, <KeyPoint 0x7fb13b1a64b0>, <KeyPoint 0x7fb13b1a6900>, <KeyPoint 0x7fb13b1a8480>, <KeyPoint 0x7fb13b1a43c0>, <KeyPoint 0x7fb13b1a4db0>, <KeyPoint 0x7fb134319780>, <KeyPoint 0x7fb13b1a6c90>, <KeyPoint 0x7fb13b1a7a50>, <KeyPoint 0x7fb13b1a6f30>, <KeyPoint 0x7fb1343199c0>, <KeyPoint 0x7fb13b1a0ea0>, <KeyPoint 0x7fb13b1a8960>, <KeyPoint 0x7fb13b1a6540>, <KeyPoint 0x7fb13b1a75a0>, <KeyPoint 0x7fb13b1a7720>, <KeyPoint 0x7fb13b1a6180>, <KeyPoint 0x7fb13b1a6210>, <KeyPoint 0x7fb13b1a4d50>, <KeyPoint 0x7fb13b1a5d80>, <KeyPoint 0x7fb13b1a6120>, <KeyPoint 0x7fb13b1a8570>, <KeyPoint 0x7fb1343196f0>, <KeyPoint 0x7fb13b1a0de0>, <KeyPoint 0x7fb13b1a9630>, <KeyPoint 0x7fb13b1a0e40>, <KeyPoint 0x7fb13b1a5f00>, <KeyPoint 0x7fb13b1a76f0>, <KeyPoint 0x7fb13b1a8990>, <KeyPoint 0x7fb13b1a5d50>, <KeyPoint 0x7fb13b1a92d0>, <KeyPoint 0x7fb13b1a93f0>, <KeyPoint 0x7fb13b1a9690>, <KeyPoint 0x7fb13b1a6840>, <KeyPoint 0x7fb13b1a4690>, <KeyPoint 0x7fb13b1a48d0>, <KeyPoint 0x7fb13b1a94b0>, <KeyPoint 0x7fb13b1a5e40>, <KeyPoint 0x7fb13b1a5960>, <KeyPoint 0x7fb13b1a5ab0>, <KeyPoint 0x7fb13b1a6a50>, <KeyPoint 0x7fb13b1a52d0>, <KeyPoint 0x7fb13b1a5690>, <KeyPoint 0x7fb1343194e0>, <KeyPoint 0x7fb134319900>, <KeyPoint 0x7fb13b1a83c0>, <KeyPoint 0x7fb13b1a58a0>, <KeyPoint 0x7fb134319300>, <KeyPoint 0x7fb13b1a7390>, <KeyPoint 0x7fb13b1a7510>, <KeyPoint 0x7fb13b1a8270>, <KeyPoint 0x7fb13b1a7ed0>, <KeyPoint 0x7fb13b1a7fc0>, <KeyPoint 0x7fb134319150>, <KeyPoint 0x7fb13b1a53c0>, <KeyPoint 0x7fb13b1a55a0>, <KeyPoint 0x7fb13b1a4e40>, <KeyPoint 0x7fb13b1a9510>, <KeyPoint 0x7fb134319ae0>, <KeyPoint 0x7fb13b1a6b70>, <KeyPoint 0x7fb13b1a0e10>, <KeyPoint 0x7fb13b1a51b0>, <KeyPoint 0x7fb13b1a97e0>, <KeyPoint 0x7fb13b1a54e0>, <KeyPoint 0x7fb13b1a5510>, <KeyPoint 0x7fb13b1a50f0>, <KeyPoint 0x7fb13b1a61b0>, <KeyPoint 0x7fb134319c30>, <KeyPoint 0x7fb13b1a0cf0>, <KeyPoint 0x7fb13b16d1e0>, <KeyPoint 0x7fb134319a50>, <KeyPoint 0x7fb13b1a4210>, <KeyPoint 0x7fb13b1a9960>, <KeyPoint 0x7fb134319210>, <KeyPoint 0x7fb13b1a49f0>, <KeyPoint 0x7fb13b1a63f0>, <KeyPoint 0x7fb13b1a9b10>, <KeyPoint 0x7fb13b1a4f90>, <KeyPoint 0x7fb13b1a0d20>, <KeyPoint 0x7fb13b1a9210>, <KeyPoint 0x7fb13b1a5cc0>, <KeyPoint 0x7fb13b1a51e0>, <KeyPoint 0x7fb13b1a7b70>, <KeyPoint 0x7fb13b1a44b0>, <KeyPoint 0x7fb13b1a6ba0>, <KeyPoint 0x7fb13b1a4e70>, <KeyPoint 0x7fb13b1a7d80>, <KeyPoint 0x7fb13b1a71b0>, <KeyPoint 0x7fb13b1a4ed0>, <KeyPoint 0x7fb134319930>, <KeyPoint 0x7fb134319030>, <KeyPoint 0x7fb1343193f0>, <KeyPoint 0x7fb13b1a4750>, <KeyPoint 0x7fb134319ba0>, <KeyPoint 0x7fb13b1a8cc0>, <KeyPoint 0x7fb13b1a5e70>, <KeyPoint 0x7fb13b1a5ed0>, <KeyPoint 0x7fb13b1a6ab0>, <KeyPoint 0x7fb13b1a5750>, <KeyPoint 0x7fb13b1a58d0>, <KeyPoint 0x7fb13b1a5210>, <KeyPoint 0x7fb13b1a6960>, <KeyPoint 0x7fb13b1a4fc0>, <KeyPoint 0x7fb13b1a4c30>, <KeyPoint 0x7fb1343193c0>, <KeyPoint 0x7fb13b1a6090>, <KeyPoint 0x7fb13b1a9f60>, <KeyPoint 0x7fb13b1a8360>, <KeyPoint 0x7fb13b1a8450>, <KeyPoint 0x7fb13b1a9900>, <KeyPoint 0x7fb13b1a62a0>, <KeyPoint 0x7fb1343196c0>, <KeyPoint 0x7fb13b1a5570>, <KeyPoint 0x7fb13b1a4cf0>, <KeyPoint 0x7fb13b1a81e0>, <KeyPoint 0x7fb13b1a4b70>, <KeyPoint 0x7fb13b1a5e10>, <KeyPoint 0x7fb134319b10>, <KeyPoint 0x7fb134319180>, <KeyPoint 0x7fb13b1a9720>, <KeyPoint 0x7fb13b1a4360>, <KeyPoint 0x7fb134319060>, <KeyPoint 0x7fb134319270>, <KeyPoint 0x7fb13b1a9780>, <KeyPoint 0x7fb13b1a6f60>, <KeyPoint 0x7fb13b1a62d0>, <KeyPoint 0x7fb13b1a42d0>, <KeyPoint 0x7fb13b1a6a20>, <KeyPoint 0x7fb13b1a7c90>, <KeyPoint 0x7fb13b1a6fc0>, <KeyPoint 0x7fb1343198a0>, <KeyPoint 0x7fb13b1a5390>, <KeyPoint 0x7fb13b1a4900>, <KeyPoint 0x7fb13b1a4ae0>, <KeyPoint 0x7fb134319ab0>, <KeyPoint 0x7fb134319bd0>, <KeyPoint 0x7fb13b1a6ed0>, <KeyPoint 0x7fb13b1a7c00>, <KeyPoint 0x7fb13b1a4de0>, <KeyPoint 0x7fb13b1a65a0>, <KeyPoint 0x7fb13b1a4bd0>, <KeyPoint 0x7fb13b1a43f0>, <KeyPoint 0x7fb13b1a8420>, <KeyPoint 0x7fb13b1a9330>, <KeyPoint 0x7fb13b1a95d0>, <KeyPoint 0x7fb13b1a8390>, <KeyPoint 0x7fb13b1a9540>, <KeyPoint 0x7fb13b1a5420>, <KeyPoint 0x7fb13b1a4cc0>, <KeyPoint 0x7fb13b1a0db0>, <KeyPoint 0x7fb13b1a83f0>, <KeyPoint 0x7fb13b1a5270>, <KeyPoint 0x7fb134319090>, <KeyPoint 0x7fb134319b40>, <KeyPoint 0x7fb13b1a6f90>, <KeyPoint 0x7fb13b1a48a0>, <KeyPoint 0x7fb13b1a6330>, <KeyPoint 0x7fb134319a20>, <KeyPoint 0x7fb13b1a87e0>, <KeyPoint 0x7fb13b1a9660>, <KeyPoint 0x7fb13b1a9420>, <KeyPoint 0x7fb13b1a8c90>, <KeyPoint 0x7fb134319870>, <KeyPoint 0x7fb1343194b0>, <KeyPoint 0x7fb13b1a5bd0>, <KeyPoint 0x7fb13b1a0ed0>, <KeyPoint 0x7fb134319420>, <KeyPoint 0x7fb134319450>, <KeyPoint 0x7fb13b1a7480>, <KeyPoint 0x7fb13b1a5c30>, <KeyPoint 0x7fb13b1a5300>, <KeyPoint 0x7fb13b1a85d0>, <KeyPoint 0x7fb13b1a80c0>, <KeyPoint 0x7fb13b1a5b70>, <KeyPoint 0x7fb13b1a5030>, <KeyPoint 0x7fb13b1a0930>, <KeyPoint 0x7fb13b1a84b0>, <KeyPoint 0x7fb13b1a8ba0>, <KeyPoint 0x7fb13b1a4c00>, <KeyPoint 0x7fb13b1a8a20>, <KeyPoint 0x7fb13b1a49c0>, <KeyPoint 0x7fb13b1a7780>, <KeyPoint 0x7fb13b1a0a80>, <KeyPoint 0x7fb13b1a4810>, <KeyPoint 0x7fb13b1a4240>, <KeyPoint 0x7fb13b1a6a80>, <KeyPoint 0x7fb13b1a8660>, <KeyPoint 0x7fb13b1a8720>, <KeyPoint 0x7fb13b1a8750>, <KeyPoint 0x7fb13b1a0c00>, <KeyPoint 0x7fb13b1a0c60>, <KeyPoint 0x7fb13b1a6630>, <KeyPoint 0x7fb13b1a6990>, <KeyPoint 0x7fb13b1a6db0>, <KeyPoint 0x7fb13b1a7120>, <KeyPoint 0x7fb13b1a8690>, <KeyPoint 0x7fb13b1a8810>, <KeyPoint 0x7fb13b1a7030>, <KeyPoint 0x7fb13b1a46f0>, <KeyPoint 0x7fb13b1a6360>, <KeyPoint 0x7fb13b1a9840>, <KeyPoint 0x7fb13b1a60c0>, <KeyPoint 0x7fb13b1a6150>, <KeyPoint 0x7fb13b1a88d0>, <KeyPoint 0x7fb13b1a9d50>, <KeyPoint 0x7fb13b1a5630>, <KeyPoint 0x7fb13b1a59c0>, <KeyPoint 0x7fb13b1a6750>, <KeyPoint 0x7fb13b1a6060>, <KeyPoint 0x7fb13b1a69f0>, <KeyPoint 0x7fb13b1a6390>, <KeyPoint 0x7fb13b1a63c0>, <KeyPoint 0x7fb13b1a6660>, <KeyPoint 0x7fb13b1a8900>, <KeyPoint 0x7fb13b1a8780>, <KeyPoint 0x7fb13b1a8ea0>, <KeyPoint 0x7fb13b1a8de0>, <KeyPoint 0x7fb13b1a86f0>, <KeyPoint 0x7fb13b1a8030>, <KeyPoint 0x7fb13b1a7cf0>, <KeyPoint 0x7fb134319570>, <KeyPoint 0x7fb134319660>, <KeyPoint 0x7fb13b1a6240>, <KeyPoint 0x7fb13b1a8600>, <KeyPoint 0x7fb13b1a8090>, <KeyPoint 0x7fb13b1a4990>, <KeyPoint 0x7fb13b1a4ea0>]\n"
     ]
    }
   ],
   "source": [
    "print(kp1)\n",
    "print(kp2)"
   ]
  },
  {
   "cell_type": "code",
   "execution_count": 4,
   "metadata": {},
   "outputs": [],
   "source": [
    "FLANN_INDEX_KDTREE = 0\n",
    "index_params = dict(algorithm = FLANN_INDEX_KDTREE, trees = 5)\n",
    "search_params = dict(checks = 50)\n",
    "flann = cv2.FlannBasedMatcher(index_params, search_params)\n",
    "matches = flann.knnMatch(des1, des2, k=2)"
   ]
  },
  {
   "cell_type": "code",
   "execution_count": 5,
   "metadata": {},
   "outputs": [],
   "source": [
    "good = []\n",
    "for m, n in matches:\n",
    "    if m.distance < 0.7 * n.distance:\n",
    "        good.append(m)"
   ]
  },
  {
   "cell_type": "code",
   "execution_count": 7,
   "metadata": {},
   "outputs": [
    {
     "name": "stdout",
     "output_type": "stream",
     "text": [
      "Not enough matches are found - 7/10\n"
     ]
    }
   ],
   "source": [
    "MIN_MATCH_COUNT = 10\n",
    "if len(good) > MIN_MATCH_COUNT:\n",
    "    # Estimate homography between template and scene\n",
    "    src_pts = np.float32([ kp1[m.queryIdx].pt for m in good]).reshape(-1, 1, 2)\n",
    "    dst_pts = np.float32([ kp2[m.trainIdx].pt for m in good]).reshape(-1, 1, 2)\n",
    "\n",
    "    M = cv2.findHomography(src_pts, dst_pts, cv2.RANSAC, 5.0)[0]\n",
    "\n",
    "    # Draw detected template in scene image\n",
    "    h, w = img1.shape\n",
    "    pts = np.float32([[0, 0],\n",
    "                      [0, h - 1],\n",
    "                      [w - 1, h - 1],\n",
    "                      [w - 1, 0]]).reshape(-1, 1, 2)\n",
    "    dst = cv2.perspectiveTransform(pts, M)\n",
    "\n",
    "    img2 = cv2.polylines(img2, [np.int32(dst)], True, 255, 3, cv2.LINE_AA)\n",
    "\n",
    "    h1, w1 = img1.shape\n",
    "    h2, w2 = img2.shape\n",
    "    nWidth = w1 + w2\n",
    "    nHeight = max(h1, h2)\n",
    "    hdif = int((h2 - h1) / 2)\n",
    "    newimg = np.zeros((nHeight, nWidth, 3), np.uint8)\n",
    "\n",
    "    for i in range(3):\n",
    "        newimg[hdif:hdif + h1, :w1, i] = img1\n",
    "        newimg[:h2, w1:w1 + w2, i] = img2\n",
    "\n",
    "    # Draw SIFT keypoint matches\n",
    "    for m in good:\n",
    "        pt1 = (int(kp1[m.queryIdx].pt[0]), int(kp1[m.queryIdx].pt[1] + hdif))\n",
    "        pt2 = (int(kp2[m.trainIdx].pt[0] + w1), int(kp2[m.trainIdx].pt[1]))\n",
    "        cv2.line(newimg, pt1, pt2, (255, 0, 0))\n",
    "\n",
    "    plt.imshow(newimg)\n",
    "    plt.show()\n",
    "else:\n",
    "    print(\"Not enough matches are found - %d/%d\" % (len(good), MIN_MATCH_COUNT))"
   ]
  },
  {
   "cell_type": "code",
   "execution_count": null,
   "metadata": {},
   "outputs": [],
   "source": []
  }
 ],
 "metadata": {
  "kernelspec": {
   "display_name": "Python (py37)",
   "language": "python",
   "name": "py37"
  },
  "language_info": {
   "codemirror_mode": {
    "name": "ipython",
    "version": 3
   },
   "file_extension": ".py",
   "mimetype": "text/x-python",
   "name": "python",
   "nbconvert_exporter": "python",
   "pygments_lexer": "ipython3",
   "version": "3.7.7"
  }
 },
 "nbformat": 4,
 "nbformat_minor": 4
}
