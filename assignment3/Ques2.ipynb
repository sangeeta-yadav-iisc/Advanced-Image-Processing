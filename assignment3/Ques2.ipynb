{
 "cells": [
  {
   "cell_type": "code",
   "execution_count": 38,
   "metadata": {},
   "outputs": [],
   "source": [
    "x = [1,0,1]\n",
    "y = [1,0,1]"
   ]
  },
  {
   "cell_type": "code",
   "execution_count": null,
   "metadata": {},
   "outputs": [],
   "source": []
  },
  {
   "cell_type": "code",
   "execution_count": 45,
   "metadata": {},
   "outputs": [],
   "source": [
    "import math \n",
    "def f(xi,yi,sigma):\n",
    "    return math.exp(-0.5*(xi**2 + yi**2)/(2 * sigma**2))/(2*math.pi*sigma**2)\n",
    "def G(x,y):\n",
    "    g = []\n",
    "    coord = []\n",
    "    for xi in x:\n",
    "        for yi in y:\n",
    "            coord.append([xi,yi])\n",
    "            g.append(f(xi,yi,1.0))\n",
    "    return g,coord\n",
    "            "
   ]
  },
  {
   "cell_type": "code",
   "execution_count": null,
   "metadata": {},
   "outputs": [],
   "source": [
    "## Ques 2\n",
    "# Low pass gaussian filter\n",
    "from PIL import Image\n",
    "img = Image.open('image.png').convert('L')\n",
    "img.save('greyscale.png')"
   ]
  }
 ],
 "metadata": {
  "kernelspec": {
   "display_name": "Python (py37)",
   "language": "python",
   "name": "py37"
  },
  "language_info": {
   "codemirror_mode": {
    "name": "ipython",
    "version": 3
   },
   "file_extension": ".py",
   "mimetype": "text/x-python",
   "name": "python",
   "nbconvert_exporter": "python",
   "pygments_lexer": "ipython3",
   "version": "3.7.7"
  }
 },
 "nbformat": 4,
 "nbformat_minor": 4
}
