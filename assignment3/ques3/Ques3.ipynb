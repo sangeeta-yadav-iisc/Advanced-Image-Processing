{
 "cells": [
  {
   "cell_type": "code",
   "execution_count": 2,
   "metadata": {},
   "outputs": [],
   "source": [
    "from PIL import Image\n",
    "import numpy as np\n",
    "import os\n",
    "import cv2"
   ]
  },
  {
   "cell_type": "code",
   "execution_count": 3,
   "metadata": {},
   "outputs": [],
   "source": [
    "img = cv2.imread('lighthouse2.bmp')\n",
    "gray_img = cv2.cvtColor(img, cv2.COLOR_BGR2GRAY)\n",
    "noise = gray_img.copy()\n",
    "cv2.randn(noise,(0),(10)) \n",
    "noisy_img = gray_img + noise"
   ]
  },
  {
   "cell_type": "code",
   "execution_count": 4,
   "metadata": {},
   "outputs": [],
   "source": [
    "def gaussian_filter(shape =(3,3), sigma=1):\n",
    "    x, y = [edge //2 for edge in shape]\n",
    "    grid = np.array([[((i**2+j**2)/(2.0*sigma**2)) for i in range(-x, x+1)] for j in range(-y, y+1)])\n",
    "    g_filter = np.exp(-grid)/(2*np.pi*sigma**2)\n",
    "    g_filter /= np.sum(g_filter)\n",
    "    return g_filter"
   ]
  },
  {
   "cell_type": "code",
   "execution_count": 5,
   "metadata": {},
   "outputs": [],
   "source": [
    "filters = gaussian_filter(shape =(3,3), sigma=0.1)#min_kernel[1])\n",
    "flt_img = cv2.filter2D(src=noisy_img, ddepth=-1, kernel=filters)"
   ]
  },
  {
   "cell_type": "code",
   "execution_count": 6,
   "metadata": {},
   "outputs": [],
   "source": [
    "hpf = np.array([(-1,-1,-1),(-1,8,-1),(-1,-1,-1)])\n",
    "hpf_img = cv2.filter2D(src=noisy_img, ddepth=-1, kernel=hpf)\n",
    "sharp_img = gray_img+hpf_img"
   ]
  }
 ],
 "metadata": {
  "kernelspec": {
   "display_name": "Python (py37)",
   "language": "python",
   "name": "py37"
  },
  "language_info": {
   "codemirror_mode": {
    "name": "ipython",
    "version": 3
   },
   "file_extension": ".py",
   "mimetype": "text/x-python",
   "name": "python",
   "nbconvert_exporter": "python",
   "pygments_lexer": "ipython3",
   "version": "3.7.7"
  }
 },
 "nbformat": 4,
 "nbformat_minor": 4
}
